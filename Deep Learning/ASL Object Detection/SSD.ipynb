{
 "cells": [
  {
   "cell_type": "markdown",
   "metadata": {
    "id": "CuAHPfhCfxZy"
   },
   "source": [
    "# -- Import libraries"
   ]
  },
  {
   "cell_type": "code",
   "execution_count": 2,
   "metadata": {},
   "outputs": [
    {
     "data": {
      "text/plain": [
       "'1.19.2'"
      ]
     },
     "execution_count": 2,
     "metadata": {},
     "output_type": "execute_result"
    }
   ],
   "source": [
    "import numpy as np\r\n",
    "np.__version__"
   ]
  },
  {
   "cell_type": "code",
   "execution_count": 3,
   "metadata": {},
   "outputs": [
    {
     "data": {
      "text/plain": [
       "'1.1.3'"
      ]
     },
     "execution_count": 3,
     "metadata": {},
     "output_type": "execute_result"
    }
   ],
   "source": [
    "import pandas as pd\r\n",
    "pd.__version__"
   ]
  },
  {
   "cell_type": "code",
   "execution_count": 1,
   "metadata": {
    "id": "wkzVStUKfwJf",
    "tags": []
   },
   "outputs": [],
   "source": [
    "import numpy as np\r\n",
    "import pandas as pd\r\n",
    "import cv2\r\n",
    "import os\r\n",
    "import io"
   ]
  },
  {
   "cell_type": "markdown",
   "metadata": {
    "id": "oDGz0E-bf9aq"
   },
   "source": [
    "# -- Folder structure and Model library\n",
    "Name and url of the model downloaded form TF2 Model zoo:\n",
    "https://github.com/tensorflow/models/blob/master/research/object_detection/g3doc/tf2_detection_zoo.md\n",
    "Get the link by copying the link for the model that you want to train from the model zoo\n",
    "Note that if you changed the model you HAVE TO CHANGE BOTH OF THE FOLLOWINGS"
   ]
  },
  {
   "cell_type": "code",
   "execution_count": 2,
   "metadata": {},
   "outputs": [],
   "source": [
    "from subprocess import Popen, PIPE, STDOUT\r\n",
    "\r\n",
    "from IPython.core.magic import register_line_magic\r\n",
    "\r\n",
    "@register_line_magic\r\n",
    "def runrealcmd(command):\r\n",
    "    process = Popen(command, stdout=PIPE, shell=True, stderr=STDOUT, bufsize=1, close_fds=True)\r\n",
    "    for line in iter(process.stdout.readline, b''):\r\n",
    "        print(line.rstrip().decode('utf-8'))\r\n",
    "    process.stdout.close()\r\n",
    "    process.wait()"
   ]
  },
  {
   "cell_type": "code",
   "execution_count": 2,
   "metadata": {
    "id": "eF9PZDzugA3f"
   },
   "outputs": [],
   "source": [
    "# CUSTOM_MODEL_NAME = 'centernet_resnet50_v1_fpn_512x512_coco17_tpu-8'\r\n",
    "# PRETRAINED_MODEL_NAME = 'centernet_resnet50_v1_fpn_512x512_coco17_tpu-8'\r\n",
    "# PRETRAINED_MODEL_URL = 'http://download.tensorflow.org/models/object_detection/tf2/20200711/centernet_resnet50_v1_fpn_512x512_coco17_tpu-8.tar.gz'\r\n",
    "CUSTOM_MODEL_NAME = 'ssd_mobilenet_v2_fpnlite_640x640_coco17_tpu-8'\r\n",
    "PRETRAINED_MODEL_NAME = 'ssd_mobilenet_v2_fpnlite_640x640_coco17_tpu-8'\r\n",
    "PRETRAINED_MODEL_URL = 'http://download.tensorflow.org/models/object_detection/tf2/20200711/ssd_mobilenet_v2_fpnlite_640x640_coco17_tpu-8.tar.gz'\r\n",
    "\r\n",
    "LABEL_MAP_NAME = 'label_map.pbtxt'\r\n",
    "\r\n",
    "root_dir = \"Project\"\r\n",
    "work_dir = \"data_models\"\r\n",
    "tf_m = 'pre_trained_models'\r\n",
    "my_tf_m = 'my_trained_models'\r\n",
    "\r\n",
    "batch_size = 4\r\n",
    "\r\n",
    "paths = {\r\n",
    "    'WORKSPACE_PATH': os.path.join(root_dir, work_dir),\r\n",
    "    'APIMODEL_PATH': os.path.join(root_dir,'tf_model_garden'),\r\n",
    "    'ANNOTATION_PATH': os.path.join(root_dir, work_dir,'annot'),\r\n",
    "    'IMAGE_PATH': os.path.join(root_dir, work_dir,'images'),\r\n",
    "    'MODEL_PATH': os.path.join(root_dir, work_dir,my_tf_m),\r\n",
    "    'PRETRAINED_MODEL_PATH': os.path.join(root_dir, work_dir,tf_m),\r\n",
    "    'CHECKPOINT_PATH': os.path.join(root_dir, work_dir,my_tf_m,CUSTOM_MODEL_NAME),\r\n",
    "    'OUTPUT_PATH': os.path.join(root_dir, work_dir,my_tf_m,CUSTOM_MODEL_NAME, 'export'),\r\n",
    "    'TFJS_PATH':os.path.join(root_dir, work_dir,my_tf_m,CUSTOM_MODEL_NAME, 'tfjsexport'),\r\n",
    "    'TFLITE_PATH':os.path.join(root_dir, work_dir,my_tf_m,CUSTOM_MODEL_NAME, 'tfliteexport'),\r\n",
    "    'PROTOC_PATH':os.path.join(root_dir,'protoc')\r\n",
    " }\r\n",
    "\r\n",
    "\r\n",
    "files = {\r\n",
    "    'PIPELINE_CONFIG':os.path.join(root_dir, work_dir,my_tf_m, CUSTOM_MODEL_NAME, 'pipeline.config'),\r\n",
    "    'LABELMAP': os.path.join(paths['ANNOTATION_PATH'], LABEL_MAP_NAME)\r\n",
    "}\r\n",
    "\r\n",
    "for path in paths.values():\r\n",
    "    if not os.path.exists(path):\r\n",
    "        os.makedirs(path)\r\n"
   ]
  },
  {
   "cell_type": "markdown",
   "metadata": {
    "id": "Ha_RPXkyxK2P"
   },
   "source": [
    "#-- Upload images\n",
    "Now upload your images (zip file) into the \"images\" directory"
   ]
  },
  {
   "cell_type": "markdown",
   "metadata": {
    "id": "zLzdTGTiyGx9"
   },
   "source": [
    "#-- Download the TF model garden and install OD API\n"
   ]
  },
  {
   "cell_type": "code",
   "execution_count": 9,
   "metadata": {
    "colab": {
     "base_uri": "https://localhost:8080/"
    },
    "executionInfo": {
     "elapsed": 35057,
     "status": "ok",
     "timestamp": 1626900378711,
     "user": {
      "displayName": "CNS All event",
      "photoUrl": "",
      "userId": "06891167352691230902"
     },
     "user_tz": 240
    },
    "id": "lK4O3KE_yOu6",
    "outputId": "c6a0e8a2-7c6c-450c-9ff5-24d2dd7990ba",
    "tags": []
   },
   "outputs": [
    {
     "name": "stdout",
     "output_type": "stream",
     "text": [
      "Requirement already satisfied: wget in c:\\users\\khoi\\anaconda3\\envs\\test\\lib\\site-packages (3.2)\n"
     ]
    },
    {
     "name": "stderr",
     "output_type": "stream",
     "text": [
      "WARNING: You are using pip version 20.2.4; however, version 21.2.1 is available.\n",
      "You should consider upgrading via the 'C:\\Users\\Khoi\\anaconda3\\envs\\test\\python.exe -m pip install --upgrade pip' command.\n"
     ]
    }
   ],
   "source": [
    "if os.name=='nt':\r\n",
    "    !pip install wget\r\n",
    "    import wget\r\n",
    "\r\n",
    "if not os.path.exists(os.path.join(paths['APIMODEL_PATH'], 'research', 'object_detection')):\r\n",
    "    !git clone https://github.com/tensorflow/models {paths['APIMODEL_PATH']}\r\n",
    "\r\n",
    "# Install Tensorflow Object Detection -------------------------------------------------------------------------------------------\r\n",
    "# if os.name=='posix':  \r\n",
    "#     !apt-get install protobuf-compiler\r\n",
    "#     !cd Project/tf_model_garden/research && protoc object_detection/protos/*.proto --python_out=. && cp object_detection/packages/tf2/setup.py . && python -m pip install . \r\n",
    "\r\n",
    "# if os.name=='nt':\r\n",
    "#     url=\"https://github.com/protocolbuffers/protobuf/releases/download/v3.15.6/protoc-3.15.6-win64.zip\"\r\n",
    "#     wget.download(url)\r\n",
    "#     !move protoc-3.15.6-win64.zip {paths['PROTOC_PATH']}\r\n",
    "#     !cd {paths['PROTOC_PATH']} && tar -xf protoc-3.15.6-win64.zip\r\n",
    "#     os.environ['PATH'] += os.pathsep + os.path.abspath(os.path.join(paths['PROTOC_PATH'], 'bin'))   \r\n",
    "#     !cd Tensorflow/models/research && protoc object_detection/protos/*.proto --python_out=. && copy object_detection\\\\packages\\\\tf2\\\\setup.py setup.py && python setup.py build && python setup.py install\r\n",
    "#     !cd Tensorflow/models/research/slim && pip install -e . \r\n"
   ]
  },
  {
   "cell_type": "markdown",
   "metadata": {
    "id": "dBlY_TC2v8BO"
   },
   "source": [
    "# -- Verification"
   ]
  },
  {
   "cell_type": "code",
   "execution_count": 6,
   "metadata": {
    "colab": {
     "base_uri": "https://localhost:8080/"
    },
    "collapsed": true,
    "executionInfo": {
     "elapsed": 38331,
     "status": "ok",
     "timestamp": 1626900560575,
     "user": {
      "displayName": "CNS All event",
      "photoUrl": "",
      "userId": "06891167352691230902"
     },
     "user_tz": 240
    },
    "id": "fSTDCwHXymaS",
    "jupyter": {
     "outputs_hidden": true
    },
    "outputId": "291bd289-799a-4458-f239-64320090c042",
    "tags": []
   },
   "outputs": [
    {
     "name": "stderr",
     "output_type": "stream",
     "text": [
      "2021-07-29 13:56:53.402481: I tensorflow/stream_executor/platform/default/dso_loader.cc:53] Successfully opened dynamic library cudart64_110.dll\n",
      "Running tests under Python 3.8.10: C:\\Users\\Jai\\anaconda3\\envs\\tfod\\python.exe\n",
      "[ RUN      ] ModelBuilderTF2Test.test_create_center_net_deepmac\n",
      "2021-07-29 13:56:59.850378: I tensorflow/stream_executor/platform/default/dso_loader.cc:53] Successfully opened dynamic library nvcuda.dll\n",
      "2021-07-29 13:56:59.893959: I tensorflow/core/common_runtime/gpu/gpu_device.cc:1733] Found device 0 with properties: \n",
      "pciBusID: 0000:29:00.0 name: NVIDIA GeForce RTX 2070 SUPER computeCapability: 7.5\n",
      "coreClock: 1.785GHz coreCount: 40 deviceMemorySize: 8.00GiB deviceMemoryBandwidth: 417.29GiB/s\n",
      "2021-07-29 13:56:59.894116: I tensorflow/stream_executor/platform/default/dso_loader.cc:53] Successfully opened dynamic library cudart64_110.dll\n",
      "2021-07-29 13:56:59.953409: I tensorflow/stream_executor/platform/default/dso_loader.cc:53] Successfully opened dynamic library cublas64_11.dll\n",
      "2021-07-29 13:56:59.953434: I tensorflow/stream_executor/platform/default/dso_loader.cc:53] Successfully opened dynamic library cublasLt64_11.dll\n",
      "2021-07-29 13:56:59.975680: I tensorflow/stream_executor/platform/default/dso_loader.cc:53] Successfully opened dynamic library cufft64_10.dll\n",
      "2021-07-29 13:56:59.982330: I tensorflow/stream_executor/platform/default/dso_loader.cc:53] Successfully opened dynamic library curand64_10.dll\n",
      "2021-07-29 13:57:00.003104: I tensorflow/stream_executor/platform/default/dso_loader.cc:53] Successfully opened dynamic library cusolver64_11.dll\n",
      "2021-07-29 13:57:00.025956: I tensorflow/stream_executor/platform/default/dso_loader.cc:53] Successfully opened dynamic library cusparse64_11.dll\n",
      "2021-07-29 13:57:00.028748: I tensorflow/stream_executor/platform/default/dso_loader.cc:53] Successfully opened dynamic library cudnn64_8.dll\n",
      "2021-07-29 13:57:00.028827: I tensorflow/core/common_runtime/gpu/gpu_device.cc:1871] Adding visible gpu devices: 0\n",
      "2021-07-29 13:57:00.030126: I tensorflow/core/platform/cpu_feature_guard.cc:142] This TensorFlow binary is optimized with oneAPI Deep Neural Network Library (oneDNN) to use the following CPU instructions in performance-critical operations:  AVX AVX2\n",
      "To enable them in other operations, rebuild TensorFlow with the appropriate compiler flags.\n",
      "2021-07-29 13:57:00.031567: I tensorflow/core/common_runtime/gpu/gpu_device.cc:1733] Found device 0 with properties: \n",
      "pciBusID: 0000:29:00.0 name: NVIDIA GeForce RTX 2070 SUPER computeCapability: 7.5\n",
      "coreClock: 1.785GHz coreCount: 40 deviceMemorySize: 8.00GiB deviceMemoryBandwidth: 417.29GiB/s\n",
      "2021-07-29 13:57:00.031607: I tensorflow/core/common_runtime/gpu/gpu_device.cc:1871] Adding visible gpu devices: 0\n",
      "2021-07-29 13:57:00.855406: I tensorflow/core/common_runtime/gpu/gpu_device.cc:1258] Device interconnect StreamExecutor with strength 1 edge matrix:\n",
      "2021-07-29 13:57:00.855424: I tensorflow/core/common_runtime/gpu/gpu_device.cc:1264]      0 \n",
      "2021-07-29 13:57:00.855429: I tensorflow/core/common_runtime/gpu/gpu_device.cc:1277] 0:   N \n",
      "2021-07-29 13:57:00.856954: I tensorflow/core/common_runtime/gpu/gpu_device.cc:1418] Created TensorFlow device (/job:localhost/replica:0/task:0/device:GPU:0 with 5973 MB memory) -> physical GPU (device: 0, name: NVIDIA GeForce RTX 2070 SUPER, pci bus id: 0000:29:00.0, compute capability: 7.5)\n",
      "C:\\Users\\Jai\\anaconda3\\envs\\tfod\\lib\\site-packages\\object_detection\\builders\\model_builder.py:1088: DeprecationWarning: The 'warn' function is deprecated, use 'warning' instead\n",
      "  logging.warn(('Building experimental DeepMAC meta-arch.'\n",
      "W0729 13:57:01.278798  7856 model_builder.py:1088] Building experimental DeepMAC meta-arch. Some features may be omitted.\n",
      "INFO:tensorflow:time(__main__.ModelBuilderTF2Test.test_create_center_net_deepmac): 1.65s\n",
      "I0729 13:57:01.484996  7856 test_util.py:2102] time(__main__.ModelBuilderTF2Test.test_create_center_net_deepmac): 1.65s\n",
      "[       OK ] ModelBuilderTF2Test.test_create_center_net_deepmac\n",
      "[ RUN      ] ModelBuilderTF2Test.test_create_center_net_model0 (customize_head_params=True)\n",
      "INFO:tensorflow:time(__main__.ModelBuilderTF2Test.test_create_center_net_model0 (customize_head_params=True)): 1.08s\n",
      "I0729 13:57:02.562368  7856 test_util.py:2102] time(__main__.ModelBuilderTF2Test.test_create_center_net_model0 (customize_head_params=True)): 1.08s\n",
      "[       OK ] ModelBuilderTF2Test.test_create_center_net_model0 (customize_head_params=True)\n",
      "[ RUN      ] ModelBuilderTF2Test.test_create_center_net_model1 (customize_head_params=False)\n",
      "INFO:tensorflow:time(__main__.ModelBuilderTF2Test.test_create_center_net_model1 (customize_head_params=False)): 0.29s\n",
      "I0729 13:57:02.855627  7856 test_util.py:2102] time(__main__.ModelBuilderTF2Test.test_create_center_net_model1 (customize_head_params=False)): 0.29s\n",
      "[       OK ] ModelBuilderTF2Test.test_create_center_net_model1 (customize_head_params=False)\n",
      "[ RUN      ] ModelBuilderTF2Test.test_create_center_net_model_from_keypoints\n",
      "INFO:tensorflow:time(__main__.ModelBuilderTF2Test.test_create_center_net_model_from_keypoints): 0.2s\n",
      "I0729 13:57:03.058525  7856 test_util.py:2102] time(__main__.ModelBuilderTF2Test.test_create_center_net_model_from_keypoints): 0.2s\n",
      "[       OK ] ModelBuilderTF2Test.test_create_center_net_model_from_keypoints\n",
      "[ RUN      ] ModelBuilderTF2Test.test_create_center_net_model_mobilenet\n",
      "WARNING:tensorflow:`input_shape` is undefined or non-square, or `rows` is not in [96, 128, 160, 192, 224]. Weights for input shape (224, 224) will be loaded as the default.\n",
      "W0729 13:57:03.063303  7856 mobilenet_v2.py:296] `input_shape` is undefined or non-square, or `rows` is not in [96, 128, 160, 192, 224]. Weights for input shape (224, 224) will be loaded as the default.\n",
      "INFO:tensorflow:time(__main__.ModelBuilderTF2Test.test_create_center_net_model_mobilenet): 1.38s\n",
      "I0729 13:57:04.436165  7856 test_util.py:2102] time(__main__.ModelBuilderTF2Test.test_create_center_net_model_mobilenet): 1.38s\n",
      "[       OK ] ModelBuilderTF2Test.test_create_center_net_model_mobilenet\n",
      "[ RUN      ] ModelBuilderTF2Test.test_create_experimental_model\n",
      "INFO:tensorflow:time(__main__.ModelBuilderTF2Test.test_create_experimental_model): 0.0s\n",
      "I0729 13:57:04.437171  7856 test_util.py:2102] time(__main__.ModelBuilderTF2Test.test_create_experimental_model): 0.0s\n",
      "[       OK ] ModelBuilderTF2Test.test_create_experimental_model\n",
      "[ RUN      ] ModelBuilderTF2Test.test_create_faster_rcnn_from_config_with_crop_feature0 (True)\n",
      "INFO:tensorflow:time(__main__.ModelBuilderTF2Test.test_create_faster_rcnn_from_config_with_crop_feature0 (True)): 0.02s\n",
      "I0729 13:57:04.454182  7856 test_util.py:2102] time(__main__.ModelBuilderTF2Test.test_create_faster_rcnn_from_config_with_crop_feature0 (True)): 0.02s\n",
      "[       OK ] ModelBuilderTF2Test.test_create_faster_rcnn_from_config_with_crop_feature0 (True)\n",
      "[ RUN      ] ModelBuilderTF2Test.test_create_faster_rcnn_from_config_with_crop_feature1 (False)\n",
      "INFO:tensorflow:time(__main__.ModelBuilderTF2Test.test_create_faster_rcnn_from_config_with_crop_feature1 (False)): 0.01s\n",
      "I0729 13:57:04.466193  7856 test_util.py:2102] time(__main__.ModelBuilderTF2Test.test_create_faster_rcnn_from_config_with_crop_feature1 (False)): 0.01s\n",
      "[       OK ] ModelBuilderTF2Test.test_create_faster_rcnn_from_config_with_crop_feature1 (False)\n",
      "[ RUN      ] ModelBuilderTF2Test.test_create_faster_rcnn_model_from_config_with_example_miner\n",
      "INFO:tensorflow:time(__main__.ModelBuilderTF2Test.test_create_faster_rcnn_model_from_config_with_example_miner): 0.01s\n",
      "I0729 13:57:04.478204  7856 test_util.py:2102] time(__main__.ModelBuilderTF2Test.test_create_faster_rcnn_model_from_config_with_example_miner): 0.01s\n",
      "[       OK ] ModelBuilderTF2Test.test_create_faster_rcnn_model_from_config_with_example_miner\n",
      "[ RUN      ] ModelBuilderTF2Test.test_create_faster_rcnn_models_from_config_faster_rcnn_with_matmul\n",
      "INFO:tensorflow:time(__main__.ModelBuilderTF2Test.test_create_faster_rcnn_models_from_config_faster_rcnn_with_matmul): 0.17s\n",
      "I0729 13:57:04.645355  7856 test_util.py:2102] time(__main__.ModelBuilderTF2Test.test_create_faster_rcnn_models_from_config_faster_rcnn_with_matmul): 0.17s\n",
      "[       OK ] ModelBuilderTF2Test.test_create_faster_rcnn_models_from_config_faster_rcnn_with_matmul\n",
      "[ RUN      ] ModelBuilderTF2Test.test_create_faster_rcnn_models_from_config_faster_rcnn_without_matmul\n",
      "INFO:tensorflow:time(__main__.ModelBuilderTF2Test.test_create_faster_rcnn_models_from_config_faster_rcnn_without_matmul): 0.07s\n",
      "I0729 13:57:04.718422  7856 test_util.py:2102] time(__main__.ModelBuilderTF2Test.test_create_faster_rcnn_models_from_config_faster_rcnn_without_matmul): 0.07s\n",
      "[       OK ] ModelBuilderTF2Test.test_create_faster_rcnn_models_from_config_faster_rcnn_without_matmul\n",
      "[ RUN      ] ModelBuilderTF2Test.test_create_faster_rcnn_models_from_config_mask_rcnn_with_matmul\n",
      "INFO:tensorflow:time(__main__.ModelBuilderTF2Test.test_create_faster_rcnn_models_from_config_mask_rcnn_with_matmul): 0.08s\n",
      "I0729 13:57:04.793490  7856 test_util.py:2102] time(__main__.ModelBuilderTF2Test.test_create_faster_rcnn_models_from_config_mask_rcnn_with_matmul): 0.08s\n",
      "[       OK ] ModelBuilderTF2Test.test_create_faster_rcnn_models_from_config_mask_rcnn_with_matmul\n",
      "[ RUN      ] ModelBuilderTF2Test.test_create_faster_rcnn_models_from_config_mask_rcnn_without_matmul\n",
      "INFO:tensorflow:time(__main__.ModelBuilderTF2Test.test_create_faster_rcnn_models_from_config_mask_rcnn_without_matmul): 0.07s\n",
      "I0729 13:57:04.868558  7856 test_util.py:2102] time(__main__.ModelBuilderTF2Test.test_create_faster_rcnn_models_from_config_mask_rcnn_without_matmul): 0.07s\n",
      "[       OK ] ModelBuilderTF2Test.test_create_faster_rcnn_models_from_config_mask_rcnn_without_matmul\n",
      "[ RUN      ] ModelBuilderTF2Test.test_create_rfcn_model_from_config\n",
      "INFO:tensorflow:time(__main__.ModelBuilderTF2Test.test_create_rfcn_model_from_config): 0.07s\n",
      "I0729 13:57:04.941625  7856 test_util.py:2102] time(__main__.ModelBuilderTF2Test.test_create_rfcn_model_from_config): 0.07s\n",
      "[       OK ] ModelBuilderTF2Test.test_create_rfcn_model_from_config\n",
      "[ RUN      ] ModelBuilderTF2Test.test_create_ssd_fpn_model_from_config\n",
      "INFO:tensorflow:time(__main__.ModelBuilderTF2Test.test_create_ssd_fpn_model_from_config): 0.02s\n",
      "I0729 13:57:04.962644  7856 test_util.py:2102] time(__main__.ModelBuilderTF2Test.test_create_ssd_fpn_model_from_config): 0.02s\n",
      "[       OK ] ModelBuilderTF2Test.test_create_ssd_fpn_model_from_config\n",
      "[ RUN      ] ModelBuilderTF2Test.test_create_ssd_models_from_config\n",
      "I0729 13:57:05.094764  7856 ssd_efficientnet_bifpn_feature_extractor.py:142] EfficientDet EfficientNet backbone version: efficientnet-b0\n",
      "I0729 13:57:05.095764  7856 ssd_efficientnet_bifpn_feature_extractor.py:144] EfficientDet BiFPN num filters: 64\n",
      "I0729 13:57:05.095764  7856 ssd_efficientnet_bifpn_feature_extractor.py:145] EfficientDet BiFPN num iterations: 3\n",
      "I0729 13:57:05.096765  7856 efficientnet_model.py:147] round_filter input=32 output=32\n",
      "I0729 13:57:05.108777  7856 efficientnet_model.py:147] round_filter input=32 output=32\n",
      "I0729 13:57:05.108777  7856 efficientnet_model.py:147] round_filter input=16 output=16\n",
      "I0729 13:57:05.152927  7856 efficientnet_model.py:147] round_filter input=16 output=16\n",
      "I0729 13:57:05.152927  7856 efficientnet_model.py:147] round_filter input=24 output=24\n",
      "I0729 13:57:05.261026  7856 efficientnet_model.py:147] round_filter input=24 output=24\n",
      "I0729 13:57:05.262027  7856 efficientnet_model.py:147] round_filter input=40 output=40\n",
      "I0729 13:57:05.365120  7856 efficientnet_model.py:147] round_filter input=40 output=40\n",
      "I0729 13:57:05.365120  7856 efficientnet_model.py:147] round_filter input=80 output=80\n",
      "I0729 13:57:05.522263  7856 efficientnet_model.py:147] round_filter input=80 output=80\n",
      "I0729 13:57:05.522263  7856 efficientnet_model.py:147] round_filter input=112 output=112\n",
      "I0729 13:57:05.680406  7856 efficientnet_model.py:147] round_filter input=112 output=112\n",
      "I0729 13:57:05.681407  7856 efficientnet_model.py:147] round_filter input=192 output=192\n",
      "I0729 13:57:05.894601  7856 efficientnet_model.py:147] round_filter input=192 output=192\n",
      "I0729 13:57:05.894601  7856 efficientnet_model.py:147] round_filter input=320 output=320\n",
      "I0729 13:57:05.945647  7856 efficientnet_model.py:147] round_filter input=1280 output=1280\n",
      "I0729 13:57:05.966666  7856 efficientnet_model.py:458] Building model efficientnet with params ModelConfig(width_coefficient=1.0, depth_coefficient=1.0, resolution=224, dropout_rate=0.2, blocks=(BlockConfig(input_filters=32, output_filters=16, kernel_size=3, num_repeat=1, expand_ratio=1, strides=(1, 1), se_ratio=0.25, id_skip=True, fused_conv=False, conv_type='depthwise'), BlockConfig(input_filters=16, output_filters=24, kernel_size=3, num_repeat=2, expand_ratio=6, strides=(2, 2), se_ratio=0.25, id_skip=True, fused_conv=False, conv_type='depthwise'), BlockConfig(input_filters=24, output_filters=40, kernel_size=5, num_repeat=2, expand_ratio=6, strides=(2, 2), se_ratio=0.25, id_skip=True, fused_conv=False, conv_type='depthwise'), BlockConfig(input_filters=40, output_filters=80, kernel_size=3, num_repeat=3, expand_ratio=6, strides=(2, 2), se_ratio=0.25, id_skip=True, fused_conv=False, conv_type='depthwise'), BlockConfig(input_filters=80, output_filters=112, kernel_size=5, num_repeat=3, expand_ratio=6, strides=(1, 1), se_ratio=0.25, id_skip=True, fused_conv=False, conv_type='depthwise'), BlockConfig(input_filters=112, output_filters=192, kernel_size=5, num_repeat=4, expand_ratio=6, strides=(2, 2), se_ratio=0.25, id_skip=True, fused_conv=False, conv_type='depthwise'), BlockConfig(input_filters=192, output_filters=320, kernel_size=3, num_repeat=1, expand_ratio=6, strides=(1, 1), se_ratio=0.25, id_skip=True, fused_conv=False, conv_type='depthwise')), stem_base_filters=32, top_base_filters=1280, activation='simple_swish', batch_norm='default', bn_momentum=0.99, bn_epsilon=0.001, weight_decay=5e-06, drop_connect_rate=0.2, depth_divisor=8, min_depth=None, use_se=True, input_channels=3, num_classes=1000, model_name='efficientnet', rescale_input=False, data_format='channels_last', dtype='float32')\n",
      "I0729 13:57:06.009706  7856 ssd_efficientnet_bifpn_feature_extractor.py:142] EfficientDet EfficientNet backbone version: efficientnet-b1\n",
      "I0729 13:57:06.009706  7856 ssd_efficientnet_bifpn_feature_extractor.py:144] EfficientDet BiFPN num filters: 88\n",
      "I0729 13:57:06.010706  7856 ssd_efficientnet_bifpn_feature_extractor.py:145] EfficientDet BiFPN num iterations: 4\n",
      "I0729 13:57:06.011708  7856 efficientnet_model.py:147] round_filter input=32 output=32\n",
      "I0729 13:57:06.022718  7856 efficientnet_model.py:147] round_filter input=32 output=32\n",
      "I0729 13:57:06.022718  7856 efficientnet_model.py:147] round_filter input=16 output=16\n",
      "I0729 13:57:06.104792  7856 efficientnet_model.py:147] round_filter input=16 output=16\n",
      "I0729 13:57:06.105793  7856 efficientnet_model.py:147] round_filter input=24 output=24\n",
      "I0729 13:57:06.262936  7856 efficientnet_model.py:147] round_filter input=24 output=24\n",
      "I0729 13:57:06.262936  7856 efficientnet_model.py:147] round_filter input=40 output=40\n",
      "I0729 13:57:06.421079  7856 efficientnet_model.py:147] round_filter input=40 output=40\n",
      "I0729 13:57:06.421079  7856 efficientnet_model.py:147] round_filter input=80 output=80\n",
      "I0729 13:57:06.632271  7856 efficientnet_model.py:147] round_filter input=80 output=80\n",
      "I0729 13:57:06.632271  7856 efficientnet_model.py:147] round_filter input=112 output=112\n",
      "I0729 13:57:06.919236  7856 efficientnet_model.py:147] round_filter input=112 output=112\n",
      "I0729 13:57:06.919236  7856 efficientnet_model.py:147] round_filter input=192 output=192\n",
      "I0729 13:57:07.181474  7856 efficientnet_model.py:147] round_filter input=192 output=192\n",
      "I0729 13:57:07.181474  7856 efficientnet_model.py:147] round_filter input=320 output=320\n",
      "I0729 13:57:07.288571  7856 efficientnet_model.py:147] round_filter input=1280 output=1280\n",
      "I0729 13:57:07.307589  7856 efficientnet_model.py:458] Building model efficientnet with params ModelConfig(width_coefficient=1.0, depth_coefficient=1.1, resolution=240, dropout_rate=0.2, blocks=(BlockConfig(input_filters=32, output_filters=16, kernel_size=3, num_repeat=1, expand_ratio=1, strides=(1, 1), se_ratio=0.25, id_skip=True, fused_conv=False, conv_type='depthwise'), BlockConfig(input_filters=16, output_filters=24, kernel_size=3, num_repeat=2, expand_ratio=6, strides=(2, 2), se_ratio=0.25, id_skip=True, fused_conv=False, conv_type='depthwise'), BlockConfig(input_filters=24, output_filters=40, kernel_size=5, num_repeat=2, expand_ratio=6, strides=(2, 2), se_ratio=0.25, id_skip=True, fused_conv=False, conv_type='depthwise'), BlockConfig(input_filters=40, output_filters=80, kernel_size=3, num_repeat=3, expand_ratio=6, strides=(2, 2), se_ratio=0.25, id_skip=True, fused_conv=False, conv_type='depthwise'), BlockConfig(input_filters=80, output_filters=112, kernel_size=5, num_repeat=3, expand_ratio=6, strides=(1, 1), se_ratio=0.25, id_skip=True, fused_conv=False, conv_type='depthwise'), BlockConfig(input_filters=112, output_filters=192, kernel_size=5, num_repeat=4, expand_ratio=6, strides=(2, 2), se_ratio=0.25, id_skip=True, fused_conv=False, conv_type='depthwise'), BlockConfig(input_filters=192, output_filters=320, kernel_size=3, num_repeat=1, expand_ratio=6, strides=(1, 1), se_ratio=0.25, id_skip=True, fused_conv=False, conv_type='depthwise')), stem_base_filters=32, top_base_filters=1280, activation='simple_swish', batch_norm='default', bn_momentum=0.99, bn_epsilon=0.001, weight_decay=5e-06, drop_connect_rate=0.2, depth_divisor=8, min_depth=None, use_se=True, input_channels=3, num_classes=1000, model_name='efficientnet', rescale_input=False, data_format='channels_last', dtype='float32')\n",
      "I0729 13:57:07.360637  7856 ssd_efficientnet_bifpn_feature_extractor.py:142] EfficientDet EfficientNet backbone version: efficientnet-b2\n",
      "I0729 13:57:07.360637  7856 ssd_efficientnet_bifpn_feature_extractor.py:144] EfficientDet BiFPN num filters: 112\n",
      "I0729 13:57:07.360637  7856 ssd_efficientnet_bifpn_feature_extractor.py:145] EfficientDet BiFPN num iterations: 5\n",
      "I0729 13:57:07.361638  7856 efficientnet_model.py:147] round_filter input=32 output=32\n",
      "I0729 13:57:07.372648  7856 efficientnet_model.py:147] round_filter input=32 output=32\n",
      "I0729 13:57:07.372648  7856 efficientnet_model.py:147] round_filter input=16 output=16\n",
      "I0729 13:57:07.455723  7856 efficientnet_model.py:147] round_filter input=16 output=16\n",
      "I0729 13:57:07.455723  7856 efficientnet_model.py:147] round_filter input=24 output=24\n",
      "I0729 13:57:07.611865  7856 efficientnet_model.py:147] round_filter input=24 output=24\n",
      "I0729 13:57:07.612866  7856 efficientnet_model.py:147] round_filter input=40 output=48\n",
      "I0729 13:57:07.768007  7856 efficientnet_model.py:147] round_filter input=40 output=48\n",
      "I0729 13:57:07.769010  7856 efficientnet_model.py:147] round_filter input=80 output=88\n",
      "I0729 13:57:07.979201  7856 efficientnet_model.py:147] round_filter input=80 output=88\n",
      "I0729 13:57:07.979201  7856 efficientnet_model.py:147] round_filter input=112 output=120\n",
      "I0729 13:57:08.191419  7856 efficientnet_model.py:147] round_filter input=112 output=120\n",
      "I0729 13:57:08.191419  7856 efficientnet_model.py:147] round_filter input=192 output=208\n",
      "I0729 13:57:08.454658  7856 efficientnet_model.py:147] round_filter input=192 output=208\n",
      "I0729 13:57:08.454658  7856 efficientnet_model.py:147] round_filter input=320 output=352\n",
      "I0729 13:57:08.558753  7856 efficientnet_model.py:147] round_filter input=1280 output=1408\n",
      "I0729 13:57:08.578771  7856 efficientnet_model.py:458] Building model efficientnet with params ModelConfig(width_coefficient=1.1, depth_coefficient=1.2, resolution=260, dropout_rate=0.3, blocks=(BlockConfig(input_filters=32, output_filters=16, kernel_size=3, num_repeat=1, expand_ratio=1, strides=(1, 1), se_ratio=0.25, id_skip=True, fused_conv=False, conv_type='depthwise'), BlockConfig(input_filters=16, output_filters=24, kernel_size=3, num_repeat=2, expand_ratio=6, strides=(2, 2), se_ratio=0.25, id_skip=True, fused_conv=False, conv_type='depthwise'), BlockConfig(input_filters=24, output_filters=40, kernel_size=5, num_repeat=2, expand_ratio=6, strides=(2, 2), se_ratio=0.25, id_skip=True, fused_conv=False, conv_type='depthwise'), BlockConfig(input_filters=40, output_filters=80, kernel_size=3, num_repeat=3, expand_ratio=6, strides=(2, 2), se_ratio=0.25, id_skip=True, fused_conv=False, conv_type='depthwise'), BlockConfig(input_filters=80, output_filters=112, kernel_size=5, num_repeat=3, expand_ratio=6, strides=(1, 1), se_ratio=0.25, id_skip=True, fused_conv=False, conv_type='depthwise'), BlockConfig(input_filters=112, output_filters=192, kernel_size=5, num_repeat=4, expand_ratio=6, strides=(2, 2), se_ratio=0.25, id_skip=True, fused_conv=False, conv_type='depthwise'), BlockConfig(input_filters=192, output_filters=320, kernel_size=3, num_repeat=1, expand_ratio=6, strides=(1, 1), se_ratio=0.25, id_skip=True, fused_conv=False, conv_type='depthwise')), stem_base_filters=32, top_base_filters=1280, activation='simple_swish', batch_norm='default', bn_momentum=0.99, bn_epsilon=0.001, weight_decay=5e-06, drop_connect_rate=0.2, depth_divisor=8, min_depth=None, use_se=True, input_channels=3, num_classes=1000, model_name='efficientnet', rescale_input=False, data_format='channels_last', dtype='float32')\n",
      "I0729 13:57:08.631819  7856 ssd_efficientnet_bifpn_feature_extractor.py:142] EfficientDet EfficientNet backbone version: efficientnet-b3\n",
      "I0729 13:57:08.631819  7856 ssd_efficientnet_bifpn_feature_extractor.py:144] EfficientDet BiFPN num filters: 160\n",
      "I0729 13:57:08.631819  7856 ssd_efficientnet_bifpn_feature_extractor.py:145] EfficientDet BiFPN num iterations: 6\n",
      "I0729 13:57:08.632820  7856 efficientnet_model.py:147] round_filter input=32 output=40\n",
      "I0729 13:57:08.643830  7856 efficientnet_model.py:147] round_filter input=32 output=40\n",
      "I0729 13:57:08.643830  7856 efficientnet_model.py:147] round_filter input=16 output=24\n",
      "I0729 13:57:08.725904  7856 efficientnet_model.py:147] round_filter input=16 output=24\n",
      "I0729 13:57:08.725904  7856 efficientnet_model.py:147] round_filter input=24 output=32\n",
      "I0729 13:57:08.882048  7856 efficientnet_model.py:147] round_filter input=24 output=32\n",
      "I0729 13:57:08.882048  7856 efficientnet_model.py:147] round_filter input=40 output=48\n",
      "I0729 13:57:09.042191  7856 efficientnet_model.py:147] round_filter input=40 output=48\n",
      "I0729 13:57:09.042191  7856 efficientnet_model.py:147] round_filter input=80 output=96\n",
      "I0729 13:57:09.305431  7856 efficientnet_model.py:147] round_filter input=80 output=96\n",
      "I0729 13:57:09.305431  7856 efficientnet_model.py:147] round_filter input=112 output=136\n",
      "I0729 13:57:09.705794  7856 efficientnet_model.py:147] round_filter input=112 output=136\n",
      "I0729 13:57:09.705794  7856 efficientnet_model.py:147] round_filter input=192 output=232\n",
      "I0729 13:57:10.022082  7856 efficientnet_model.py:147] round_filter input=192 output=232\n",
      "I0729 13:57:10.022082  7856 efficientnet_model.py:147] round_filter input=320 output=384\n",
      "I0729 13:57:10.127177  7856 efficientnet_model.py:147] round_filter input=1280 output=1536\n",
      "I0729 13:57:10.147195  7856 efficientnet_model.py:458] Building model efficientnet with params ModelConfig(width_coefficient=1.2, depth_coefficient=1.4, resolution=300, dropout_rate=0.3, blocks=(BlockConfig(input_filters=32, output_filters=16, kernel_size=3, num_repeat=1, expand_ratio=1, strides=(1, 1), se_ratio=0.25, id_skip=True, fused_conv=False, conv_type='depthwise'), BlockConfig(input_filters=16, output_filters=24, kernel_size=3, num_repeat=2, expand_ratio=6, strides=(2, 2), se_ratio=0.25, id_skip=True, fused_conv=False, conv_type='depthwise'), BlockConfig(input_filters=24, output_filters=40, kernel_size=5, num_repeat=2, expand_ratio=6, strides=(2, 2), se_ratio=0.25, id_skip=True, fused_conv=False, conv_type='depthwise'), BlockConfig(input_filters=40, output_filters=80, kernel_size=3, num_repeat=3, expand_ratio=6, strides=(2, 2), se_ratio=0.25, id_skip=True, fused_conv=False, conv_type='depthwise'), BlockConfig(input_filters=80, output_filters=112, kernel_size=5, num_repeat=3, expand_ratio=6, strides=(1, 1), se_ratio=0.25, id_skip=True, fused_conv=False, conv_type='depthwise'), BlockConfig(input_filters=112, output_filters=192, kernel_size=5, num_repeat=4, expand_ratio=6, strides=(2, 2), se_ratio=0.25, id_skip=True, fused_conv=False, conv_type='depthwise'), BlockConfig(input_filters=192, output_filters=320, kernel_size=3, num_repeat=1, expand_ratio=6, strides=(1, 1), se_ratio=0.25, id_skip=True, fused_conv=False, conv_type='depthwise')), stem_base_filters=32, top_base_filters=1280, activation='simple_swish', batch_norm='default', bn_momentum=0.99, bn_epsilon=0.001, weight_decay=5e-06, drop_connect_rate=0.2, depth_divisor=8, min_depth=None, use_se=True, input_channels=3, num_classes=1000, model_name='efficientnet', rescale_input=False, data_format='channels_last', dtype='float32')\n",
      "I0729 13:57:10.204249  7856 ssd_efficientnet_bifpn_feature_extractor.py:142] EfficientDet EfficientNet backbone version: efficientnet-b4\n",
      "I0729 13:57:10.204249  7856 ssd_efficientnet_bifpn_feature_extractor.py:144] EfficientDet BiFPN num filters: 224\n",
      "I0729 13:57:10.204249  7856 ssd_efficientnet_bifpn_feature_extractor.py:145] EfficientDet BiFPN num iterations: 7\n",
      "I0729 13:57:10.206249  7856 efficientnet_model.py:147] round_filter input=32 output=48\n",
      "I0729 13:57:10.217259  7856 efficientnet_model.py:147] round_filter input=32 output=48\n",
      "I0729 13:57:10.217259  7856 efficientnet_model.py:147] round_filter input=16 output=24\n",
      "I0729 13:57:10.299333  7856 efficientnet_model.py:147] round_filter input=16 output=24\n",
      "I0729 13:57:10.299333  7856 efficientnet_model.py:147] round_filter input=24 output=32\n",
      "I0729 13:57:10.509524  7856 efficientnet_model.py:147] round_filter input=24 output=32\n",
      "I0729 13:57:10.509524  7856 efficientnet_model.py:147] round_filter input=40 output=56\n",
      "I0729 13:57:10.718714  7856 efficientnet_model.py:147] round_filter input=40 output=56\n",
      "I0729 13:57:10.719715  7856 efficientnet_model.py:147] round_filter input=80 output=112\n",
      "I0729 13:57:11.033001  7856 efficientnet_model.py:147] round_filter input=80 output=112\n",
      "I0729 13:57:11.033001  7856 efficientnet_model.py:147] round_filter input=112 output=160\n",
      "I0729 13:57:11.355294  7856 efficientnet_model.py:147] round_filter input=112 output=160\n",
      "I0729 13:57:11.355294  7856 efficientnet_model.py:147] round_filter input=192 output=272\n",
      "I0729 13:57:11.778705  7856 efficientnet_model.py:147] round_filter input=192 output=272\n",
      "I0729 13:57:11.778705  7856 efficientnet_model.py:147] round_filter input=320 output=448\n",
      "I0729 13:57:11.882082  7856 efficientnet_model.py:147] round_filter input=1280 output=1792\n",
      "I0729 13:57:11.903101  7856 efficientnet_model.py:458] Building model efficientnet with params ModelConfig(width_coefficient=1.4, depth_coefficient=1.8, resolution=380, dropout_rate=0.4, blocks=(BlockConfig(input_filters=32, output_filters=16, kernel_size=3, num_repeat=1, expand_ratio=1, strides=(1, 1), se_ratio=0.25, id_skip=True, fused_conv=False, conv_type='depthwise'), BlockConfig(input_filters=16, output_filters=24, kernel_size=3, num_repeat=2, expand_ratio=6, strides=(2, 2), se_ratio=0.25, id_skip=True, fused_conv=False, conv_type='depthwise'), BlockConfig(input_filters=24, output_filters=40, kernel_size=5, num_repeat=2, expand_ratio=6, strides=(2, 2), se_ratio=0.25, id_skip=True, fused_conv=False, conv_type='depthwise'), BlockConfig(input_filters=40, output_filters=80, kernel_size=3, num_repeat=3, expand_ratio=6, strides=(2, 2), se_ratio=0.25, id_skip=True, fused_conv=False, conv_type='depthwise'), BlockConfig(input_filters=80, output_filters=112, kernel_size=5, num_repeat=3, expand_ratio=6, strides=(1, 1), se_ratio=0.25, id_skip=True, fused_conv=False, conv_type='depthwise'), BlockConfig(input_filters=112, output_filters=192, kernel_size=5, num_repeat=4, expand_ratio=6, strides=(2, 2), se_ratio=0.25, id_skip=True, fused_conv=False, conv_type='depthwise'), BlockConfig(input_filters=192, output_filters=320, kernel_size=3, num_repeat=1, expand_ratio=6, strides=(1, 1), se_ratio=0.25, id_skip=True, fused_conv=False, conv_type='depthwise')), stem_base_filters=32, top_base_filters=1280, activation='simple_swish', batch_norm='default', bn_momentum=0.99, bn_epsilon=0.001, weight_decay=5e-06, drop_connect_rate=0.2, depth_divisor=8, min_depth=None, use_se=True, input_channels=3, num_classes=1000, model_name='efficientnet', rescale_input=False, data_format='channels_last', dtype='float32')\n",
      "I0729 13:57:11.971162  7856 ssd_efficientnet_bifpn_feature_extractor.py:142] EfficientDet EfficientNet backbone version: efficientnet-b5\n",
      "I0729 13:57:11.972165  7856 ssd_efficientnet_bifpn_feature_extractor.py:144] EfficientDet BiFPN num filters: 288\n",
      "I0729 13:57:11.972165  7856 ssd_efficientnet_bifpn_feature_extractor.py:145] EfficientDet BiFPN num iterations: 7\n",
      "I0729 13:57:11.973164  7856 efficientnet_model.py:147] round_filter input=32 output=48\n",
      "I0729 13:57:11.984176  7856 efficientnet_model.py:147] round_filter input=32 output=48\n",
      "I0729 13:57:11.984176  7856 efficientnet_model.py:147] round_filter input=16 output=24\n",
      "I0729 13:57:12.265422  7856 efficientnet_model.py:147] round_filter input=16 output=24\n",
      "I0729 13:57:12.266422  7856 efficientnet_model.py:147] round_filter input=24 output=40\n",
      "I0729 13:57:12.531672  7856 efficientnet_model.py:147] round_filter input=24 output=40\n",
      "I0729 13:57:12.531672  7856 efficientnet_model.py:147] round_filter input=40 output=64\n",
      "I0729 13:57:12.794912  7856 efficientnet_model.py:147] round_filter input=40 output=64\n",
      "I0729 13:57:12.794912  7856 efficientnet_model.py:147] round_filter input=80 output=128\n",
      "I0729 13:57:13.165256  7856 efficientnet_model.py:147] round_filter input=80 output=128\n",
      "I0729 13:57:13.165256  7856 efficientnet_model.py:147] round_filter input=112 output=176\n",
      "I0729 13:57:13.539604  7856 efficientnet_model.py:147] round_filter input=112 output=176\n",
      "I0729 13:57:13.539604  7856 efficientnet_model.py:147] round_filter input=192 output=304\n",
      "I0729 13:57:14.016037  7856 efficientnet_model.py:147] round_filter input=192 output=304\n",
      "I0729 13:57:14.016037  7856 efficientnet_model.py:147] round_filter input=320 output=512\n",
      "I0729 13:57:14.175182  7856 efficientnet_model.py:147] round_filter input=1280 output=2048\n",
      "I0729 13:57:14.195200  7856 efficientnet_model.py:458] Building model efficientnet with params ModelConfig(width_coefficient=1.6, depth_coefficient=2.2, resolution=456, dropout_rate=0.4, blocks=(BlockConfig(input_filters=32, output_filters=16, kernel_size=3, num_repeat=1, expand_ratio=1, strides=(1, 1), se_ratio=0.25, id_skip=True, fused_conv=False, conv_type='depthwise'), BlockConfig(input_filters=16, output_filters=24, kernel_size=3, num_repeat=2, expand_ratio=6, strides=(2, 2), se_ratio=0.25, id_skip=True, fused_conv=False, conv_type='depthwise'), BlockConfig(input_filters=24, output_filters=40, kernel_size=5, num_repeat=2, expand_ratio=6, strides=(2, 2), se_ratio=0.25, id_skip=True, fused_conv=False, conv_type='depthwise'), BlockConfig(input_filters=40, output_filters=80, kernel_size=3, num_repeat=3, expand_ratio=6, strides=(2, 2), se_ratio=0.25, id_skip=True, fused_conv=False, conv_type='depthwise'), BlockConfig(input_filters=80, output_filters=112, kernel_size=5, num_repeat=3, expand_ratio=6, strides=(1, 1), se_ratio=0.25, id_skip=True, fused_conv=False, conv_type='depthwise'), BlockConfig(input_filters=112, output_filters=192, kernel_size=5, num_repeat=4, expand_ratio=6, strides=(2, 2), se_ratio=0.25, id_skip=True, fused_conv=False, conv_type='depthwise'), BlockConfig(input_filters=192, output_filters=320, kernel_size=3, num_repeat=1, expand_ratio=6, strides=(1, 1), se_ratio=0.25, id_skip=True, fused_conv=False, conv_type='depthwise')), stem_base_filters=32, top_base_filters=1280, activation='simple_swish', batch_norm='default', bn_momentum=0.99, bn_epsilon=0.001, weight_decay=5e-06, drop_connect_rate=0.2, depth_divisor=8, min_depth=None, use_se=True, input_channels=3, num_classes=1000, model_name='efficientnet', rescale_input=False, data_format='channels_last', dtype='float32')\n",
      "I0729 13:57:14.274271  7856 ssd_efficientnet_bifpn_feature_extractor.py:142] EfficientDet EfficientNet backbone version: efficientnet-b6\n",
      "I0729 13:57:14.274271  7856 ssd_efficientnet_bifpn_feature_extractor.py:144] EfficientDet BiFPN num filters: 384\n",
      "I0729 13:57:14.274271  7856 ssd_efficientnet_bifpn_feature_extractor.py:145] EfficientDet BiFPN num iterations: 8\n",
      "I0729 13:57:14.275272  7856 efficientnet_model.py:147] round_filter input=32 output=56\n",
      "I0729 13:57:14.286283  7856 efficientnet_model.py:147] round_filter input=32 output=56\n",
      "I0729 13:57:14.286283  7856 efficientnet_model.py:147] round_filter input=16 output=32\n",
      "I0729 13:57:14.412901  7856 efficientnet_model.py:147] round_filter input=16 output=32\n",
      "I0729 13:57:14.412901  7856 efficientnet_model.py:147] round_filter input=24 output=40\n",
      "I0729 13:57:14.729693  7856 efficientnet_model.py:147] round_filter input=24 output=40\n",
      "I0729 13:57:14.729693  7856 efficientnet_model.py:147] round_filter input=40 output=72\n",
      "I0729 13:57:15.047982  7856 efficientnet_model.py:147] round_filter input=40 output=72\n",
      "I0729 13:57:15.047982  7856 efficientnet_model.py:147] round_filter input=80 output=144\n",
      "I0729 13:57:15.611494  7856 efficientnet_model.py:147] round_filter input=80 output=144\n",
      "I0729 13:57:15.611494  7856 efficientnet_model.py:147] round_filter input=112 output=200\n",
      "I0729 13:57:16.036890  7856 efficientnet_model.py:147] round_filter input=112 output=200\n",
      "I0729 13:57:16.036890  7856 efficientnet_model.py:147] round_filter input=192 output=344\n",
      "I0729 13:57:16.623431  7856 efficientnet_model.py:147] round_filter input=192 output=344\n",
      "I0729 13:57:16.623431  7856 efficientnet_model.py:147] round_filter input=320 output=576\n",
      "I0729 13:57:16.781574  7856 efficientnet_model.py:147] round_filter input=1280 output=2304\n",
      "I0729 13:57:16.800592  7856 efficientnet_model.py:458] Building model efficientnet with params ModelConfig(width_coefficient=1.8, depth_coefficient=2.6, resolution=528, dropout_rate=0.5, blocks=(BlockConfig(input_filters=32, output_filters=16, kernel_size=3, num_repeat=1, expand_ratio=1, strides=(1, 1), se_ratio=0.25, id_skip=True, fused_conv=False, conv_type='depthwise'), BlockConfig(input_filters=16, output_filters=24, kernel_size=3, num_repeat=2, expand_ratio=6, strides=(2, 2), se_ratio=0.25, id_skip=True, fused_conv=False, conv_type='depthwise'), BlockConfig(input_filters=24, output_filters=40, kernel_size=5, num_repeat=2, expand_ratio=6, strides=(2, 2), se_ratio=0.25, id_skip=True, fused_conv=False, conv_type='depthwise'), BlockConfig(input_filters=40, output_filters=80, kernel_size=3, num_repeat=3, expand_ratio=6, strides=(2, 2), se_ratio=0.25, id_skip=True, fused_conv=False, conv_type='depthwise'), BlockConfig(input_filters=80, output_filters=112, kernel_size=5, num_repeat=3, expand_ratio=6, strides=(1, 1), se_ratio=0.25, id_skip=True, fused_conv=False, conv_type='depthwise'), BlockConfig(input_filters=112, output_filters=192, kernel_size=5, num_repeat=4, expand_ratio=6, strides=(2, 2), se_ratio=0.25, id_skip=True, fused_conv=False, conv_type='depthwise'), BlockConfig(input_filters=192, output_filters=320, kernel_size=3, num_repeat=1, expand_ratio=6, strides=(1, 1), se_ratio=0.25, id_skip=True, fused_conv=False, conv_type='depthwise')), stem_base_filters=32, top_base_filters=1280, activation='simple_swish', batch_norm='default', bn_momentum=0.99, bn_epsilon=0.001, weight_decay=5e-06, drop_connect_rate=0.2, depth_divisor=8, min_depth=None, use_se=True, input_channels=3, num_classes=1000, model_name='efficientnet', rescale_input=False, data_format='channels_last', dtype='float32')\n",
      "I0729 13:57:16.889672  7856 ssd_efficientnet_bifpn_feature_extractor.py:142] EfficientDet EfficientNet backbone version: efficientnet-b7\n",
      "I0729 13:57:16.889672  7856 ssd_efficientnet_bifpn_feature_extractor.py:144] EfficientDet BiFPN num filters: 384\n",
      "I0729 13:57:16.889672  7856 ssd_efficientnet_bifpn_feature_extractor.py:145] EfficientDet BiFPN num iterations: 8\n",
      "I0729 13:57:16.891674  7856 efficientnet_model.py:147] round_filter input=32 output=64\n",
      "I0729 13:57:16.901684  7856 efficientnet_model.py:147] round_filter input=32 output=64\n",
      "I0729 13:57:16.902684  7856 efficientnet_model.py:147] round_filter input=16 output=32\n",
      "I0729 13:57:17.070837  7856 efficientnet_model.py:147] round_filter input=16 output=32\n",
      "I0729 13:57:17.070837  7856 efficientnet_model.py:147] round_filter input=24 output=48\n",
      "I0729 13:57:17.443186  7856 efficientnet_model.py:147] round_filter input=24 output=48\n",
      "I0729 13:57:17.443186  7856 efficientnet_model.py:147] round_filter input=40 output=80\n",
      "I0729 13:57:17.812530  7856 efficientnet_model.py:147] round_filter input=40 output=80\n",
      "I0729 13:57:17.812530  7856 efficientnet_model.py:147] round_filter input=80 output=160\n",
      "I0729 13:57:18.504157  7856 efficientnet_model.py:147] round_filter input=80 output=160\n",
      "I0729 13:57:18.504157  7856 efficientnet_model.py:147] round_filter input=112 output=224\n",
      "I0729 13:57:19.035649  7856 efficientnet_model.py:147] round_filter input=112 output=224\n",
      "I0729 13:57:19.035649  7856 efficientnet_model.py:147] round_filter input=192 output=384\n",
      "I0729 13:57:19.727279  7856 efficientnet_model.py:147] round_filter input=192 output=384\n",
      "I0729 13:57:19.727279  7856 efficientnet_model.py:147] round_filter input=320 output=640\n",
      "I0729 13:57:19.939469  7856 efficientnet_model.py:147] round_filter input=1280 output=2560\n",
      "I0729 13:57:19.958489  7856 efficientnet_model.py:458] Building model efficientnet with params ModelConfig(width_coefficient=2.0, depth_coefficient=3.1, resolution=600, dropout_rate=0.5, blocks=(BlockConfig(input_filters=32, output_filters=16, kernel_size=3, num_repeat=1, expand_ratio=1, strides=(1, 1), se_ratio=0.25, id_skip=True, fused_conv=False, conv_type='depthwise'), BlockConfig(input_filters=16, output_filters=24, kernel_size=3, num_repeat=2, expand_ratio=6, strides=(2, 2), se_ratio=0.25, id_skip=True, fused_conv=False, conv_type='depthwise'), BlockConfig(input_filters=24, output_filters=40, kernel_size=5, num_repeat=2, expand_ratio=6, strides=(2, 2), se_ratio=0.25, id_skip=True, fused_conv=False, conv_type='depthwise'), BlockConfig(input_filters=40, output_filters=80, kernel_size=3, num_repeat=3, expand_ratio=6, strides=(2, 2), se_ratio=0.25, id_skip=True, fused_conv=False, conv_type='depthwise'), BlockConfig(input_filters=80, output_filters=112, kernel_size=5, num_repeat=3, expand_ratio=6, strides=(1, 1), se_ratio=0.25, id_skip=True, fused_conv=False, conv_type='depthwise'), BlockConfig(input_filters=112, output_filters=192, kernel_size=5, num_repeat=4, expand_ratio=6, strides=(2, 2), se_ratio=0.25, id_skip=True, fused_conv=False, conv_type='depthwise'), BlockConfig(input_filters=192, output_filters=320, kernel_size=3, num_repeat=1, expand_ratio=6, strides=(1, 1), se_ratio=0.25, id_skip=True, fused_conv=False, conv_type='depthwise')), stem_base_filters=32, top_base_filters=1280, activation='simple_swish', batch_norm='default', bn_momentum=0.99, bn_epsilon=0.001, weight_decay=5e-06, drop_connect_rate=0.2, depth_divisor=8, min_depth=None, use_se=True, input_channels=3, num_classes=1000, model_name='efficientnet', rescale_input=False, data_format='channels_last', dtype='float32')\n",
      "INFO:tensorflow:time(__main__.ModelBuilderTF2Test.test_create_ssd_models_from_config): 15.1s\n",
      "I0729 13:57:20.065584  7856 test_util.py:2102] time(__main__.ModelBuilderTF2Test.test_create_ssd_models_from_config): 15.1s\n",
      "[       OK ] ModelBuilderTF2Test.test_create_ssd_models_from_config\n",
      "[ RUN      ] ModelBuilderTF2Test.test_invalid_faster_rcnn_batchnorm_update\n",
      "INFO:tensorflow:time(__main__.ModelBuilderTF2Test.test_invalid_faster_rcnn_batchnorm_update): 0.0s\n",
      "I0729 13:57:20.069588  7856 test_util.py:2102] time(__main__.ModelBuilderTF2Test.test_invalid_faster_rcnn_batchnorm_update): 0.0s\n",
      "[       OK ] ModelBuilderTF2Test.test_invalid_faster_rcnn_batchnorm_update\n",
      "[ RUN      ] ModelBuilderTF2Test.test_invalid_first_stage_nms_iou_threshold\n",
      "INFO:tensorflow:time(__main__.ModelBuilderTF2Test.test_invalid_first_stage_nms_iou_threshold): 0.0s\n",
      "I0729 13:57:20.071589  7856 test_util.py:2102] time(__main__.ModelBuilderTF2Test.test_invalid_first_stage_nms_iou_threshold): 0.0s\n",
      "[       OK ] ModelBuilderTF2Test.test_invalid_first_stage_nms_iou_threshold\n",
      "[ RUN      ] ModelBuilderTF2Test.test_invalid_model_config_proto\n",
      "INFO:tensorflow:time(__main__.ModelBuilderTF2Test.test_invalid_model_config_proto): 0.0s\n",
      "I0729 13:57:20.071589  7856 test_util.py:2102] time(__main__.ModelBuilderTF2Test.test_invalid_model_config_proto): 0.0s\n",
      "[       OK ] ModelBuilderTF2Test.test_invalid_model_config_proto\n",
      "[ RUN      ] ModelBuilderTF2Test.test_invalid_second_stage_batch_size\n",
      "INFO:tensorflow:time(__main__.ModelBuilderTF2Test.test_invalid_second_stage_batch_size): 0.0s\n",
      "I0729 13:57:20.073591  7856 test_util.py:2102] time(__main__.ModelBuilderTF2Test.test_invalid_second_stage_batch_size): 0.0s\n",
      "[       OK ] ModelBuilderTF2Test.test_invalid_second_stage_batch_size\n",
      "[ RUN      ] ModelBuilderTF2Test.test_session\n",
      "[  SKIPPED ] ModelBuilderTF2Test.test_session\n",
      "[ RUN      ] ModelBuilderTF2Test.test_unknown_faster_rcnn_feature_extractor\n",
      "INFO:tensorflow:time(__main__.ModelBuilderTF2Test.test_unknown_faster_rcnn_feature_extractor): 0.0s\n",
      "I0729 13:57:20.074592  7856 test_util.py:2102] time(__main__.ModelBuilderTF2Test.test_unknown_faster_rcnn_feature_extractor): 0.0s\n",
      "[       OK ] ModelBuilderTF2Test.test_unknown_faster_rcnn_feature_extractor\n",
      "[ RUN      ] ModelBuilderTF2Test.test_unknown_meta_architecture\n",
      "INFO:tensorflow:time(__main__.ModelBuilderTF2Test.test_unknown_meta_architecture): 0.0s\n",
      "I0729 13:57:20.074592  7856 test_util.py:2102] time(__main__.ModelBuilderTF2Test.test_unknown_meta_architecture): 0.0s\n",
      "[       OK ] ModelBuilderTF2Test.test_unknown_meta_architecture\n",
      "[ RUN      ] ModelBuilderTF2Test.test_unknown_ssd_feature_extractor\n",
      "INFO:tensorflow:time(__main__.ModelBuilderTF2Test.test_unknown_ssd_feature_extractor): 0.0s\n",
      "I0729 13:57:20.075593  7856 test_util.py:2102] time(__main__.ModelBuilderTF2Test.test_unknown_ssd_feature_extractor): 0.0s\n",
      "[       OK ] ModelBuilderTF2Test.test_unknown_ssd_feature_extractor\n",
      "----------------------------------------------------------------------\n",
      "Ran 24 tests in 20.237s\n",
      "\n",
      "OK (skipped=1)\n"
     ]
    }
   ],
   "source": [
    "# VERIFICATION_SCRIPT = os.path.join(paths['APIMODEL_PATH'], 'research', 'object_detection', 'builders', 'model_builder_tf2_test.py')\r\n",
    "# # Verify Installation\r\n",
    "# !python {VERIFICATION_SCRIPT}"
   ]
  },
  {
   "cell_type": "markdown",
   "metadata": {
    "id": "n8gKLevs1G-6"
   },
   "source": [
    "#-- Import the pre-trained models"
   ]
  },
  {
   "cell_type": "code",
   "execution_count": 3,
   "metadata": {
    "colab": {
     "base_uri": "https://localhost:8080/"
    },
    "executionInfo": {
     "elapsed": 989,
     "status": "ok",
     "timestamp": 1626900839330,
     "user": {
      "displayName": "CNS All event",
      "photoUrl": "",
      "userId": "06891167352691230902"
     },
     "user_tz": 240
    },
    "id": "ymdRnmKg1inY",
    "outputId": "02525bed-b8c5-4db7-ff29-2c34c0ca7cd7",
    "tags": []
   },
   "outputs": [
    {
     "name": "stdout",
     "output_type": "stream",
     "text": [
      "100% [......................................................................] 204067969 / 204067969        1 file(s) moved.\n"
     ]
    },
    {
     "name": "stderr",
     "output_type": "stream",
     "text": [
      "x centernet_resnet50_v1_fpn_512x512_coco17_tpu-8/\n",
      "x centernet_resnet50_v1_fpn_512x512_coco17_tpu-8/checkpoint/\n",
      "x centernet_resnet50_v1_fpn_512x512_coco17_tpu-8/checkpoint/ckpt-0.data-00000-of-00001\n",
      "x centernet_resnet50_v1_fpn_512x512_coco17_tpu-8/checkpoint/checkpoint\n",
      "x centernet_resnet50_v1_fpn_512x512_coco17_tpu-8/checkpoint/ckpt-0.index\n",
      "x centernet_resnet50_v1_fpn_512x512_coco17_tpu-8/pipeline.config\n",
      "x centernet_resnet50_v1_fpn_512x512_coco17_tpu-8/saved_model/\n",
      "x centernet_resnet50_v1_fpn_512x512_coco17_tpu-8/saved_model/saved_model.pb\n",
      "x centernet_resnet50_v1_fpn_512x512_coco17_tpu-8/saved_model/variables/\n",
      "x centernet_resnet50_v1_fpn_512x512_coco17_tpu-8/saved_model/variables/variables.data-00000-of-00001\n",
      "x centernet_resnet50_v1_fpn_512x512_coco17_tpu-8/saved_model/variables/variables.index\n"
     ]
    }
   ],
   "source": [
    "# import OD\r\n",
    "import object_detection\r\n",
    "import wget\r\n",
    "\r\n",
    "if os.name =='posix':\r\n",
    "    !wget {PRETRAINED_MODEL_URL}\r\n",
    "    !mv {PRETRAINED_MODEL_NAME+'.tar.gz'} {paths['PRETRAINED_MODEL_PATH']}\r\n",
    "    !cd {paths['PRETRAINED_MODEL_PATH']} && tar -zxvf {PRETRAINED_MODEL_NAME+'.tar.gz'}\r\n",
    "if os.name == 'nt':\r\n",
    "    wget.download(PRETRAINED_MODEL_URL)\r\n",
    "    !move {PRETRAINED_MODEL_NAME+'.tar.gz'} {paths['PRETRAINED_MODEL_PATH']}\r\n",
    "    !cd {paths['PRETRAINED_MODEL_PATH']} && tar -zxvf {PRETRAINED_MODEL_NAME+'.tar.gz'}"
   ]
  },
  {
   "cell_type": "markdown",
   "metadata": {
    "id": "_vgUKK7j_PKS"
   },
   "source": [
    "#-- Label map, tfrecords and config\n",
    "Upload your Labelmap, tfrecords file to you annotation folder on google colab\n",
    "\n",
    "Upload the config file to {my_trained_models} folder on google colab"
   ]
  },
  {
   "cell_type": "markdown",
   "metadata": {},
   "source": [
    "### -- Update the config file ---------------------------------------------------------------"
   ]
  },
  {
   "cell_type": "code",
   "execution_count": 19,
   "metadata": {},
   "outputs": [],
   "source": [
    "# -- Step 1\r\n",
    "# -- copy the model config from the pre_trained model to my_training_model folder !!!!!!!!!!!!!!!!!!!!!!!!!!!!!!!!!!!!!!\r\n",
    "\r\n",
    "# -- Update Config For Transfer Learning\r\n",
    "import tensorflow as tf\r\n",
    "from object_detection.utils import config_util\r\n",
    "from object_detection.protos import pipeline_pb2\r\n",
    "from google.protobuf import text_format\r\n",
    "\r\n",
    "config = config_util.get_configs_from_pipeline_file(files['PIPELINE_CONFIG'])\r\n",
    "\r\n",
    "config\r\n",
    "\r\n",
    "pipeline_config = pipeline_pb2.TrainEvalPipelineConfig()\r\n",
    "with tf.io.gfile.GFile(files['PIPELINE_CONFIG'], \"r\") as f:\r\n",
    "    proto_str = f.read()\r\n",
    "    text_format.Merge(proto_str, pipeline_config)\r\n",
    "\r\n",
    "\r\n",
    "pipeline_config.model.center_net.num_classes = 26\r\n",
    "# pipeline_config.model.ssd.num_classes = len(labels)\r\n",
    "pipeline_config.train_config.batch_size = batch_size\r\n",
    "pipeline_config.train_config.fine_tune_checkpoint = os.path.join(paths['PRETRAINED_MODEL_PATH'], PRETRAINED_MODEL_NAME, 'checkpoint', 'ckpt-0')\r\n",
    "pipeline_config.train_config.fine_tune_checkpoint_type = \"detection\"\r\n",
    "pipeline_config.train_input_reader.label_map_path= files['LABELMAP']\r\n",
    "pipeline_config.train_input_reader.tf_record_input_reader.input_path[:] = [os.path.join(paths['ANNOTATION_PATH'], 'train.record')]\r\n",
    "pipeline_config.eval_input_reader[0].label_map_path = files['LABELMAP']\r\n",
    "pipeline_config.eval_input_reader[0].tf_record_input_reader.input_path[:] = [os.path.join(paths['ANNOTATION_PATH'], 'test.record')]\r\n",
    "\r\n",
    "config_text = text_format.MessageToString(pipeline_config)\r\n",
    "with tf.io.gfile.GFile(files['PIPELINE_CONFIG'], \"wb\") as f:\r\n",
    "    f.write(config_text)"
   ]
  },
  {
   "cell_type": "markdown",
   "metadata": {
    "id": "wGSolH9L3D66"
   },
   "source": [
    "#-- Create Training command"
   ]
  },
  {
   "cell_type": "code",
   "execution_count": 20,
   "metadata": {},
   "outputs": [
    {
     "data": {
      "text/plain": [
       "52920"
      ]
     },
     "execution_count": 20,
     "metadata": {},
     "output_type": "execute_result"
    }
   ],
   "source": [
    "epoch = 140\r\n",
    "steps = (1512//batch_size)*epoch\r\n",
    "steps"
   ]
  },
  {
   "cell_type": "code",
   "execution_count": 21,
   "metadata": {
    "executionInfo": {
     "elapsed": 141,
     "status": "ok",
     "timestamp": 1626902353812,
     "user": {
      "displayName": "CNS All event",
      "photoUrl": "",
      "userId": "06891167352691230902"
     },
     "user_tz": 240
    },
    "id": "ri3l3zZ23Ipo"
   },
   "outputs": [],
   "source": [
    "TRAINING_SCRIPT = os.path.join(paths['APIMODEL_PATH'], 'research', 'object_detection', 'model_main_tf2.py')\r\n",
    "\r\n",
    "command = \"python {} --model_dir={} --pipeline_config_path={} --num_train_steps={}\".format(TRAINING_SCRIPT, paths['CHECKPOINT_PATH'],files['PIPELINE_CONFIG'], steps)\r\n"
   ]
  },
  {
   "cell_type": "code",
   "execution_count": 22,
   "metadata": {},
   "outputs": [
    {
     "data": {
      "text/plain": [
       "'python Project\\\\tf_model_garden\\\\research\\\\object_detection\\\\model_main_tf2.py --model_dir=Project\\\\data_models\\\\my_trained_models\\\\centernet_resnet50_v1_fpn_512x512_coco17_tpu-8 --pipeline_config_path=Project\\\\data_models\\\\my_trained_models\\\\centernet_resnet50_v1_fpn_512x512_coco17_tpu-8\\\\pipeline.config --num_train_steps=52920'"
      ]
     },
     "execution_count": 22,
     "metadata": {},
     "output_type": "execute_result"
    }
   ],
   "source": [
    "command"
   ]
  },
  {
   "cell_type": "markdown",
   "metadata": {
    "id": "XaklofAQ7yuz"
   },
   "source": [
    "#-- Run Training"
   ]
  },
  {
   "cell_type": "code",
   "execution_count": 23,
   "metadata": {},
   "outputs": [
    {
     "name": "stdout",
     "output_type": "stream",
     "text": [
      "3.8.10\n"
     ]
    }
   ],
   "source": [
    "from platform import python_version\r\n",
    "\r\n",
    "print(python_version())"
   ]
  },
  {
   "cell_type": "code",
   "execution_count": 14,
   "metadata": {
    "colab": {
     "base_uri": "https://localhost:8080/"
    },
    "collapsed": true,
    "executionInfo": {
     "elapsed": 345087,
     "status": "ok",
     "timestamp": 1626902736254,
     "user": {
      "displayName": "CNS All event",
      "photoUrl": "",
      "userId": "06891167352691230902"
     },
     "user_tz": 240
    },
    "id": "hYm2Fl447y8I",
    "jupyter": {
     "outputs_hidden": true
    },
    "outputId": "a9362fff-e222-445a-d0a2-e355eadd00ca",
    "tags": []
   },
   "outputs": [
    {
     "name": "stderr",
     "output_type": "stream",
     "text": [
      "2021-07-28 19:02:47.126438: I tensorflow/stream_executor/platform/default/dso_loader.cc:53] Successfully opened dynamic library cudart64_110.dll\n",
      "2021-07-28 19:02:51.563349: I tensorflow/stream_executor/platform/default/dso_loader.cc:53] Successfully opened dynamic library nvcuda.dll\n",
      "2021-07-28 19:02:51.592009: I tensorflow/core/common_runtime/gpu/gpu_device.cc:1733] Found device 0 with properties: \n",
      "pciBusID: 0000:29:00.0 name: NVIDIA GeForce RTX 2070 SUPER computeCapability: 7.5\n",
      "coreClock: 1.785GHz coreCount: 40 deviceMemorySize: 8.00GiB deviceMemoryBandwidth: 417.29GiB/s\n",
      "2021-07-28 19:02:51.592041: I tensorflow/stream_executor/platform/default/dso_loader.cc:53] Successfully opened dynamic library cudart64_110.dll\n",
      "2021-07-28 19:02:51.601522: I tensorflow/stream_executor/platform/default/dso_loader.cc:53] Successfully opened dynamic library cublas64_11.dll\n",
      "2021-07-28 19:02:51.601564: I tensorflow/stream_executor/platform/default/dso_loader.cc:53] Successfully opened dynamic library cublasLt64_11.dll\n",
      "2021-07-28 19:02:51.605537: I tensorflow/stream_executor/platform/default/dso_loader.cc:53] Successfully opened dynamic library cufft64_10.dll\n",
      "2021-07-28 19:02:51.607190: I tensorflow/stream_executor/platform/default/dso_loader.cc:53] Successfully opened dynamic library curand64_10.dll\n",
      "2021-07-28 19:02:51.611096: I tensorflow/stream_executor/platform/default/dso_loader.cc:53] Successfully opened dynamic library cusolver64_11.dll\n",
      "2021-07-28 19:02:51.615709: I tensorflow/stream_executor/platform/default/dso_loader.cc:53] Successfully opened dynamic library cusparse64_11.dll\n",
      "2021-07-28 19:02:51.616883: I tensorflow/stream_executor/platform/default/dso_loader.cc:53] Successfully opened dynamic library cudnn64_8.dll\n",
      "2021-07-28 19:02:51.616954: I tensorflow/core/common_runtime/gpu/gpu_device.cc:1871] Adding visible gpu devices: 0\n",
      "2021-07-28 19:02:51.617312: I tensorflow/core/platform/cpu_feature_guard.cc:142] This TensorFlow binary is optimized with oneAPI Deep Neural Network Library (oneDNN) to use the following CPU instructions in performance-critical operations:  AVX AVX2\n",
      "To enable them in other operations, rebuild TensorFlow with the appropriate compiler flags.\n",
      "2021-07-28 19:02:51.618263: I tensorflow/core/common_runtime/gpu/gpu_device.cc:1733] Found device 0 with properties: \n",
      "pciBusID: 0000:29:00.0 name: NVIDIA GeForce RTX 2070 SUPER computeCapability: 7.5\n",
      "coreClock: 1.785GHz coreCount: 40 deviceMemorySize: 8.00GiB deviceMemoryBandwidth: 417.29GiB/s\n",
      "2021-07-28 19:02:51.618321: I tensorflow/core/common_runtime/gpu/gpu_device.cc:1871] Adding visible gpu devices: 0\n",
      "2021-07-28 19:02:52.176719: I tensorflow/core/common_runtime/gpu/gpu_device.cc:1258] Device interconnect StreamExecutor with strength 1 edge matrix:\n",
      "2021-07-28 19:02:52.176745: I tensorflow/core/common_runtime/gpu/gpu_device.cc:1264]      0 \n",
      "2021-07-28 19:02:52.176751: I tensorflow/core/common_runtime/gpu/gpu_device.cc:1277] 0:   N \n",
      "2021-07-28 19:02:52.176963: I tensorflow/core/common_runtime/gpu/gpu_device.cc:1418] Created TensorFlow device (/job:localhost/replica:0/task:0/device:GPU:0 with 5973 MB memory) -> physical GPU (device: 0, name: NVIDIA GeForce RTX 2070 SUPER, pci bus id: 0000:29:00.0, compute capability: 7.5)\n",
      "WARNING:tensorflow:Collective ops is not configured at program startup. Some performance features may not be enabled.\n",
      "W0728 19:02:52.179345 11584 mirrored_strategy.py:379] Collective ops is not configured at program startup. Some performance features may not be enabled.\n",
      "INFO:tensorflow:Using MirroredStrategy with devices ('/job:localhost/replica:0/task:0/device:GPU:0',)\n",
      "I0728 19:02:52.348978 11584 mirrored_strategy.py:369] Using MirroredStrategy with devices ('/job:localhost/replica:0/task:0/device:GPU:0',)\n",
      "INFO:tensorflow:Maybe overwriting train_steps: 2000\n",
      "I0728 19:02:52.360989 11584 config_util.py:552] Maybe overwriting train_steps: 2000\n",
      "INFO:tensorflow:Maybe overwriting use_bfloat16: False\n",
      "I0728 19:02:52.361990 11584 config_util.py:552] Maybe overwriting use_bfloat16: False\n",
      "WARNING:tensorflow:From C:\\Users\\Jai\\anaconda3\\envs\\tfod\\lib\\site-packages\\object_detection\\model_lib_v2.py:557: StrategyBase.experimental_distribute_datasets_from_function (from tensorflow.python.distribute.distribute_lib) is deprecated and will be removed in a future version.\n",
      "Instructions for updating:\n",
      "rename to distribute_datasets_from_function\n",
      "W0728 19:02:52.380007 11584 deprecation.py:330] From C:\\Users\\Jai\\anaconda3\\envs\\tfod\\lib\\site-packages\\object_detection\\model_lib_v2.py:557: StrategyBase.experimental_distribute_datasets_from_function (from tensorflow.python.distribute.distribute_lib) is deprecated and will be removed in a future version.\n",
      "Instructions for updating:\n",
      "rename to distribute_datasets_from_function\n",
      "INFO:tensorflow:Reading unweighted datasets: ['Project\\\\data_models\\\\annot\\\\train.record']\n",
      "I0728 19:02:52.392018 11584 dataset_builder.py:163] Reading unweighted datasets: ['Project\\\\data_models\\\\annot\\\\train.record']\n",
      "INFO:tensorflow:Reading record datasets for input file: ['Project\\\\data_models\\\\annot\\\\train.record']\n",
      "I0728 19:02:52.392018 11584 dataset_builder.py:80] Reading record datasets for input file: ['Project\\\\data_models\\\\annot\\\\train.record']\n",
      "INFO:tensorflow:Number of filenames to read: 1\n",
      "I0728 19:02:52.392018 11584 dataset_builder.py:81] Number of filenames to read: 1\n",
      "WARNING:tensorflow:num_readers has been reduced to 1 to match input file shards.\n",
      "W0728 19:02:52.392018 11584 dataset_builder.py:87] num_readers has been reduced to 1 to match input file shards.\n",
      "WARNING:tensorflow:From C:\\Users\\Jai\\anaconda3\\envs\\tfod\\lib\\site-packages\\object_detection\\builders\\dataset_builder.py:101: parallel_interleave (from tensorflow.python.data.experimental.ops.interleave_ops) is deprecated and will be removed in a future version.\n",
      "Instructions for updating:\n",
      "Use `tf.data.Dataset.interleave(map_func, cycle_length, block_length, num_parallel_calls=tf.data.AUTOTUNE)` instead. If sloppy execution is desired, use `tf.data.Options.experimental_deterministic`.\n",
      "W0728 19:02:52.394020 11584 deprecation.py:330] From C:\\Users\\Jai\\anaconda3\\envs\\tfod\\lib\\site-packages\\object_detection\\builders\\dataset_builder.py:101: parallel_interleave (from tensorflow.python.data.experimental.ops.interleave_ops) is deprecated and will be removed in a future version.\n",
      "Instructions for updating:\n",
      "Use `tf.data.Dataset.interleave(map_func, cycle_length, block_length, num_parallel_calls=tf.data.AUTOTUNE)` instead. If sloppy execution is desired, use `tf.data.Options.experimental_deterministic`.\n",
      "WARNING:tensorflow:From C:\\Users\\Jai\\anaconda3\\envs\\tfod\\lib\\site-packages\\object_detection\\builders\\dataset_builder.py:236: DatasetV1.map_with_legacy_function (from tensorflow.python.data.ops.dataset_ops) is deprecated and will be removed in a future version.\n",
      "Instructions for updating:\n",
      "Use `tf.data.Dataset.map()\n",
      "W0728 19:02:52.414038 11584 deprecation.py:330] From C:\\Users\\Jai\\anaconda3\\envs\\tfod\\lib\\site-packages\\object_detection\\builders\\dataset_builder.py:236: DatasetV1.map_with_legacy_function (from tensorflow.python.data.ops.dataset_ops) is deprecated and will be removed in a future version.\n",
      "Instructions for updating:\n",
      "Use `tf.data.Dataset.map()\n",
      "Traceback (most recent call last):\n",
      "  File \"Project\\tf_model_garden\\research\\object_detection\\model_main_tf2.py\", line 115, in <module>\n",
      "    tf.compat.v1.app.run()\n",
      "  File \"C:\\Users\\Jai\\AppData\\Roaming\\Python\\Python38\\site-packages\\tensorflow\\python\\platform\\app.py\", line 40, in run\n",
      "    _run(main=main, argv=argv, flags_parser=_parse_flags_tolerate_undef)\n",
      "  File \"C:\\Users\\Jai\\anaconda3\\envs\\tfod\\lib\\site-packages\\absl\\app.py\", line 312, in run\n",
      "    _run_main(main, args)\n",
      "  File \"C:\\Users\\Jai\\anaconda3\\envs\\tfod\\lib\\site-packages\\absl\\app.py\", line 258, in _run_main\n",
      "    sys.exit(main(argv))\n",
      "  File \"Project\\tf_model_garden\\research\\object_detection\\model_main_tf2.py\", line 106, in main\n",
      "    model_lib_v2.train_loop(\n",
      "  File \"C:\\Users\\Jai\\anaconda3\\envs\\tfod\\lib\\site-packages\\object_detection\\model_lib_v2.py\", line 557, in train_loop\n",
      "    train_input = strategy.experimental_distribute_datasets_from_function(\n",
      "  File \"C:\\Users\\Jai\\AppData\\Roaming\\Python\\Python38\\site-packages\\tensorflow\\python\\util\\deprecation.py\", line 337, in new_func\n",
      "    return func(*args, **kwargs)\n",
      "  File \"C:\\Users\\Jai\\AppData\\Roaming\\Python\\Python38\\site-packages\\tensorflow\\python\\distribute\\distribute_lib.py\", line 1168, in experimental_distribute_datasets_from_function\n",
      "    return self.distribute_datasets_from_function(dataset_fn, options)\n",
      "  File \"C:\\Users\\Jai\\AppData\\Roaming\\Python\\Python38\\site-packages\\tensorflow\\python\\distribute\\distribute_lib.py\", line 1159, in distribute_datasets_from_function\n",
      "    return self._extended._distribute_datasets_from_function(  # pylint: disable=protected-access\n",
      "  File \"C:\\Users\\Jai\\AppData\\Roaming\\Python\\Python38\\site-packages\\tensorflow\\python\\distribute\\mirrored_strategy.py\", line 595, in _distribute_datasets_from_function\n",
      "    return input_lib.get_distributed_datasets_from_function(\n",
      "  File \"C:\\Users\\Jai\\AppData\\Roaming\\Python\\Python38\\site-packages\\tensorflow\\python\\distribute\\input_lib.py\", line 167, in get_distributed_datasets_from_function\n",
      "    return DistributedDatasetsFromFunction(input_workers, strategy,\n",
      "  File \"C:\\Users\\Jai\\AppData\\Roaming\\Python\\Python38\\site-packages\\tensorflow\\python\\distribute\\input_lib.py\", line 1565, in __init__\n",
      "    _create_datasets_from_function_with_input_context(\n",
      "  File \"C:\\Users\\Jai\\AppData\\Roaming\\Python\\Python38\\site-packages\\tensorflow\\python\\distribute\\input_lib.py\", line 2301, in _create_datasets_from_function_with_input_context\n",
      "    dataset = dataset_fn(ctx)\n",
      "  File \"C:\\Users\\Jai\\anaconda3\\envs\\tfod\\lib\\site-packages\\object_detection\\model_lib_v2.py\", line 548, in train_dataset_fn\n",
      "    train_input = inputs.train_input(\n",
      "  File \"C:\\Users\\Jai\\anaconda3\\envs\\tfod\\lib\\site-packages\\object_detection\\inputs.py\", line 901, in train_input\n",
      "    dataset = INPUT_BUILDER_UTIL_MAP['dataset_build'](\n",
      "  File \"C:\\Users\\Jai\\anaconda3\\envs\\tfod\\lib\\site-packages\\object_detection\\builders\\dataset_builder.py\", line 251, in build\n",
      "    dataset = dataset_map_fn(dataset, decoder.decode, batch_size,\n",
      "  File \"C:\\Users\\Jai\\anaconda3\\envs\\tfod\\lib\\site-packages\\object_detection\\builders\\dataset_builder.py\", line 236, in dataset_map_fn\n",
      "    dataset = dataset.map_with_legacy_function(\n",
      "  File \"C:\\Users\\Jai\\AppData\\Roaming\\Python\\Python38\\site-packages\\tensorflow\\python\\util\\deprecation.py\", line 337, in new_func\n",
      "    return func(*args, **kwargs)\n",
      "  File \"C:\\Users\\Jai\\AppData\\Roaming\\Python\\Python38\\site-packages\\tensorflow\\python\\data\\ops\\dataset_ops.py\", line 2814, in map_with_legacy_function\n",
      "    ParallelMapDataset(\n",
      "  File \"C:\\Users\\Jai\\AppData\\Roaming\\Python\\Python38\\site-packages\\tensorflow\\python\\data\\ops\\dataset_ops.py\", line 4522, in __init__\n",
      "    self._map_func = StructuredFunctionWrapper(\n",
      "  File \"C:\\Users\\Jai\\AppData\\Roaming\\Python\\Python38\\site-packages\\tensorflow\\python\\data\\ops\\dataset_ops.py\", line 3719, in __init__\n",
      "    self._function.add_to_graph(ops.get_default_graph())\n",
      "  File \"C:\\Users\\Jai\\AppData\\Roaming\\Python\\Python38\\site-packages\\tensorflow\\python\\framework\\function.py\", line 542, in add_to_graph\n",
      "    self._create_definition_if_needed()\n",
      "  File \"C:\\Users\\Jai\\AppData\\Roaming\\Python\\Python38\\site-packages\\tensorflow\\python\\framework\\function.py\", line 378, in _create_definition_if_needed\n",
      "    self._create_definition_if_needed_impl()\n",
      "  File \"C:\\Users\\Jai\\AppData\\Roaming\\Python\\Python38\\site-packages\\tensorflow\\python\\framework\\function.py\", line 396, in _create_definition_if_needed_impl\n",
      "    temp_graph = func_graph_from_py_func(\n",
      "  File \"C:\\Users\\Jai\\AppData\\Roaming\\Python\\Python38\\site-packages\\tensorflow\\python\\framework\\function.py\", line 967, in func_graph_from_py_func\n",
      "    outputs = func(*func_graph.inputs)\n",
      "  File \"C:\\Users\\Jai\\AppData\\Roaming\\Python\\Python38\\site-packages\\tensorflow\\python\\data\\ops\\dataset_ops.py\", line 3635, in wrapped_fn\n",
      "    ret = wrapper_helper(*args)\n",
      "  File \"C:\\Users\\Jai\\AppData\\Roaming\\Python\\Python38\\site-packages\\tensorflow\\python\\data\\ops\\dataset_ops.py\", line 3617, in wrapper_helper\n",
      "    ret = autograph.tf_convert(self._func, ag_ctx)(*nested_args)\n",
      "  File \"C:\\Users\\Jai\\AppData\\Roaming\\Python\\Python38\\site-packages\\tensorflow\\python\\autograph\\impl\\api.py\", line 695, in wrapper\n",
      "    raise e.ag_error_metadata.to_exception(e)\n",
      "NotImplementedError: in user code:\n",
      "\n",
      "    C:\\Users\\Jai\\anaconda3\\envs\\tfod\\lib\\site-packages\\object_detection\\data_decoders\\tf_example_decoder.py:533 default_groundtruth_weights  *\n",
      "        [tf.shape(tensor_dict[fields.InputDataFields.groundtruth_boxes])[0]],\n",
      "    C:\\Users\\Jai\\AppData\\Roaming\\Python\\Python38\\site-packages\\tensorflow\\python\\util\\dispatch.py:206 wrapper  **\n",
      "        return target(*args, **kwargs)\n",
      "    C:\\Users\\Jai\\AppData\\Roaming\\Python\\Python38\\site-packages\\tensorflow\\python\\ops\\array_ops.py:3212 ones\n",
      "        output = _constant_if_small(one, shape, dtype, name)\n",
      "    C:\\Users\\Jai\\AppData\\Roaming\\Python\\Python38\\site-packages\\tensorflow\\python\\ops\\array_ops.py:2896 _constant_if_small\n",
      "        if np.prod(shape) < 1000:\n",
      "    <__array_function__ internals>:5 prod\n",
      "        \n",
      "    C:\\Users\\Jai\\anaconda3\\envs\\tfod\\lib\\site-packages\\numpy\\core\\fromnumeric.py:3051 prod\n",
      "        return _wrapreduction(a, np.multiply, 'prod', axis, dtype, out,\n",
      "    C:\\Users\\Jai\\anaconda3\\envs\\tfod\\lib\\site-packages\\numpy\\core\\fromnumeric.py:86 _wrapreduction\n",
      "        return ufunc.reduce(obj, axis, dtype, out, **passkwargs)\n",
      "    C:\\Users\\Jai\\AppData\\Roaming\\Python\\Python38\\site-packages\\tensorflow\\python\\framework\\ops.py:867 __array__\n",
      "        raise NotImplementedError(\n",
      "\n",
      "    NotImplementedError: Cannot convert a symbolic Tensor (cond_2/strided_slice:0) to a numpy array. This error may indicate that you're trying to pass a Tensor to a NumPy call, which is not supported\n",
      "\n"
     ]
    }
   ],
   "source": [
    "!{command}"
   ]
  },
  {
   "cell_type": "markdown",
   "metadata": {
    "id": "bHB1EFXv9MiK"
   },
   "source": [
    "#-- Evaluate the model"
   ]
  },
  {
   "cell_type": "code",
   "execution_count": 24,
   "metadata": {
    "executionInfo": {
     "elapsed": 142,
     "status": "ok",
     "timestamp": 1626902813111,
     "user": {
      "displayName": "CNS All event",
      "photoUrl": "",
      "userId": "06891167352691230902"
     },
     "user_tz": 240
    },
    "id": "rfqWFla39PGX"
   },
   "outputs": [],
   "source": [
    "command = \"python {} --model_dir={} --pipeline_config_path={} --checkpoint_dir={}\".format(TRAINING_SCRIPT,\\\r\n",
    "                            paths['CHECKPOINT_PATH'],files['PIPELINE_CONFIG'], paths['CHECKPOINT_PATH'])\r\n"
   ]
  },
  {
   "cell_type": "code",
   "execution_count": 25,
   "metadata": {},
   "outputs": [
    {
     "data": {
      "text/plain": [
       "'python Project\\\\tf_model_garden\\\\research\\\\object_detection\\\\model_main_tf2.py --model_dir=Project\\\\data_models\\\\my_trained_models\\\\centernet_resnet50_v1_fpn_512x512_coco17_tpu-8 --pipeline_config_path=Project\\\\data_models\\\\my_trained_models\\\\centernet_resnet50_v1_fpn_512x512_coco17_tpu-8\\\\pipeline.config --checkpoint_dir=Project\\\\data_models\\\\my_trained_models\\\\centernet_resnet50_v1_fpn_512x512_coco17_tpu-8'"
      ]
     },
     "execution_count": 25,
     "metadata": {},
     "output_type": "execute_result"
    }
   ],
   "source": [
    "command"
   ]
  },
  {
   "cell_type": "code",
   "execution_count": 13,
   "metadata": {
    "colab": {
     "base_uri": "https://localhost:8080/"
    },
    "collapsed": true,
    "executionInfo": {
     "elapsed": 4621,
     "status": "ok",
     "timestamp": 1626902819119,
     "user": {
      "displayName": "CNS All event",
      "photoUrl": "",
      "userId": "06891167352691230902"
     },
     "user_tz": 240
    },
    "id": "3nSlpSLk9Z-a",
    "jupyter": {
     "outputs_hidden": true
    },
    "outputId": "7ab95819-cc14-41f3-b1ed-815c88bd765a",
    "tags": []
   },
   "outputs": [
    {
     "name": "stderr",
     "output_type": "stream",
     "text": [
      "2021-07-27 21:56:24.652727: I tensorflow/stream_executor/platform/default/dso_loader.cc:53] Successfully opened dynamic library cudart64_110.dll\n",
      "WARNING:tensorflow:Forced number of epochs for all eval validations to be 1.\n",
      "W0727 21:56:28.035271 15224 model_lib_v2.py:1081] Forced number of epochs for all eval validations to be 1.\n",
      "INFO:tensorflow:Maybe overwriting sample_1_of_n_eval_examples: None\n",
      "I0727 21:56:28.035271 15224 config_util.py:552] Maybe overwriting sample_1_of_n_eval_examples: None\n",
      "INFO:tensorflow:Maybe overwriting use_bfloat16: False\n",
      "I0727 21:56:28.035271 15224 config_util.py:552] Maybe overwriting use_bfloat16: False\n",
      "INFO:tensorflow:Maybe overwriting eval_num_epochs: 1\n",
      "I0727 21:56:28.035271 15224 config_util.py:552] Maybe overwriting eval_num_epochs: 1\n",
      "WARNING:tensorflow:Expected number of evaluation epochs is 1, but instead encountered `eval_on_train_input_config.num_epochs` = 0. Overwriting `num_epochs` to 1.\n",
      "W0727 21:56:28.035271 15224 model_lib_v2.py:1099] Expected number of evaluation epochs is 1, but instead encountered `eval_on_train_input_config.num_epochs` = 0. Overwriting `num_epochs` to 1.\n",
      "2021-07-27 21:56:28.038977: I tensorflow/stream_executor/platform/default/dso_loader.cc:53] Successfully opened dynamic library nvcuda.dll\n",
      "2021-07-27 21:56:28.072186: I tensorflow/core/common_runtime/gpu/gpu_device.cc:1733] Found device 0 with properties: \n",
      "pciBusID: 0000:0b:00.0 name: NVIDIA GeForce RTX 3080 computeCapability: 8.6\n",
      "coreClock: 1.785GHz coreCount: 68 deviceMemorySize: 10.00GiB deviceMemoryBandwidth: 707.88GiB/s\n",
      "2021-07-27 21:56:28.072208: I tensorflow/stream_executor/platform/default/dso_loader.cc:53] Successfully opened dynamic library cudart64_110.dll\n",
      "2021-07-27 21:56:28.079743: I tensorflow/stream_executor/platform/default/dso_loader.cc:53] Successfully opened dynamic library cublas64_11.dll\n",
      "2021-07-27 21:56:28.079764: I tensorflow/stream_executor/platform/default/dso_loader.cc:53] Successfully opened dynamic library cublasLt64_11.dll\n",
      "2021-07-27 21:56:28.083336: I tensorflow/stream_executor/platform/default/dso_loader.cc:53] Successfully opened dynamic library cufft64_10.dll\n",
      "2021-07-27 21:56:28.084725: I tensorflow/stream_executor/platform/default/dso_loader.cc:53] Successfully opened dynamic library curand64_10.dll\n",
      "2021-07-27 21:56:28.087399: I tensorflow/stream_executor/platform/default/dso_loader.cc:53] Successfully opened dynamic library cusolver64_11.dll\n",
      "2021-07-27 21:56:28.090897: I tensorflow/stream_executor/platform/default/dso_loader.cc:53] Successfully opened dynamic library cusparse64_11.dll\n",
      "2021-07-27 21:56:28.092044: I tensorflow/stream_executor/platform/default/dso_loader.cc:53] Successfully opened dynamic library cudnn64_8.dll\n",
      "2021-07-27 21:56:28.092125: I tensorflow/core/common_runtime/gpu/gpu_device.cc:1871] Adding visible gpu devices: 0\n",
      "2021-07-27 21:56:28.092373: I tensorflow/core/platform/cpu_feature_guard.cc:142] This TensorFlow binary is optimized with oneAPI Deep Neural Network Library (oneDNN) to use the following CPU instructions in performance-critical operations:  AVX AVX2\n",
      "To enable them in other operations, rebuild TensorFlow with the appropriate compiler flags.\n",
      "2021-07-27 21:56:28.093081: I tensorflow/core/common_runtime/gpu/gpu_device.cc:1733] Found device 0 with properties: \n",
      "pciBusID: 0000:0b:00.0 name: NVIDIA GeForce RTX 3080 computeCapability: 8.6\n",
      "coreClock: 1.785GHz coreCount: 68 deviceMemorySize: 10.00GiB deviceMemoryBandwidth: 707.88GiB/s\n",
      "2021-07-27 21:56:28.093112: I tensorflow/core/common_runtime/gpu/gpu_device.cc:1871] Adding visible gpu devices: 0\n",
      "2021-07-27 21:56:28.509629: I tensorflow/core/common_runtime/gpu/gpu_device.cc:1258] Device interconnect StreamExecutor with strength 1 edge matrix:\n",
      "2021-07-27 21:56:28.509650: I tensorflow/core/common_runtime/gpu/gpu_device.cc:1264]      0 \n",
      "2021-07-27 21:56:28.509655: I tensorflow/core/common_runtime/gpu/gpu_device.cc:1277] 0:   N \n",
      "2021-07-27 21:56:28.509817: I tensorflow/core/common_runtime/gpu/gpu_device.cc:1418] Created TensorFlow device (/job:localhost/replica:0/task:0/device:GPU:0 with 7440 MB memory) -> physical GPU (device: 0, name: NVIDIA GeForce RTX 3080, pci bus id: 0000:0b:00.0, compute capability: 8.6)\n",
      "INFO:tensorflow:Reading unweighted datasets: ['Project\\\\data_models\\\\annot\\\\test.record']\n",
      "I0727 21:56:28.732317 15224 dataset_builder.py:163] Reading unweighted datasets: ['Project\\\\data_models\\\\annot\\\\test.record']\n",
      "INFO:tensorflow:Reading record datasets for input file: ['Project\\\\data_models\\\\annot\\\\test.record']\n",
      "I0727 21:56:28.732817 15224 dataset_builder.py:80] Reading record datasets for input file: ['Project\\\\data_models\\\\annot\\\\test.record']\n",
      "INFO:tensorflow:Number of filenames to read: 1\n",
      "I0727 21:56:28.732817 15224 dataset_builder.py:81] Number of filenames to read: 1\n",
      "WARNING:tensorflow:num_readers has been reduced to 1 to match input file shards.\n",
      "W0727 21:56:28.732817 15224 dataset_builder.py:87] num_readers has been reduced to 1 to match input file shards.\n",
      "WARNING:tensorflow:From C:\\Users\\Khoi\\anaconda3\\envs\\test\\lib\\site-packages\\object_detection\\builders\\dataset_builder.py:101: parallel_interleave (from tensorflow.python.data.experimental.ops.interleave_ops) is deprecated and will be removed in a future version.\n",
      "Instructions for updating:\n",
      "Use `tf.data.Dataset.interleave(map_func, cycle_length, block_length, num_parallel_calls=tf.data.AUTOTUNE)` instead. If sloppy execution is desired, use `tf.data.Options.experimental_deterministic`.\n",
      "W0727 21:56:28.733817 15224 deprecation.py:330] From C:\\Users\\Khoi\\anaconda3\\envs\\test\\lib\\site-packages\\object_detection\\builders\\dataset_builder.py:101: parallel_interleave (from tensorflow.python.data.experimental.ops.interleave_ops) is deprecated and will be removed in a future version.\n",
      "Instructions for updating:\n",
      "Use `tf.data.Dataset.interleave(map_func, cycle_length, block_length, num_parallel_calls=tf.data.AUTOTUNE)` instead. If sloppy execution is desired, use `tf.data.Options.experimental_deterministic`.\n",
      "WARNING:tensorflow:From C:\\Users\\Khoi\\anaconda3\\envs\\test\\lib\\site-packages\\object_detection\\builders\\dataset_builder.py:236: DatasetV1.map_with_legacy_function (from tensorflow.python.data.ops.dataset_ops) is deprecated and will be removed in a future version.\n",
      "Instructions for updating:\n",
      "Use `tf.data.Dataset.map()\n",
      "W0727 21:56:28.747817 15224 deprecation.py:330] From C:\\Users\\Khoi\\anaconda3\\envs\\test\\lib\\site-packages\\object_detection\\builders\\dataset_builder.py:236: DatasetV1.map_with_legacy_function (from tensorflow.python.data.ops.dataset_ops) is deprecated and will be removed in a future version.\n",
      "Instructions for updating:\n",
      "Use `tf.data.Dataset.map()\n",
      "WARNING:tensorflow:From C:\\Users\\Khoi\\anaconda3\\envs\\test\\lib\\site-packages\\tensorflow\\python\\util\\dispatch.py:206: sparse_to_dense (from tensorflow.python.ops.sparse_ops) is deprecated and will be removed in a future version.\n",
      "Instructions for updating:\n",
      "Create a `tf.sparse.SparseTensor` and use `tf.sparse.to_dense` instead.\n",
      "W0727 21:56:31.672816 15224 deprecation.py:330] From C:\\Users\\Khoi\\anaconda3\\envs\\test\\lib\\site-packages\\tensorflow\\python\\util\\dispatch.py:206: sparse_to_dense (from tensorflow.python.ops.sparse_ops) is deprecated and will be removed in a future version.\n",
      "Instructions for updating:\n",
      "Create a `tf.sparse.SparseTensor` and use `tf.sparse.to_dense` instead.\n",
      "WARNING:tensorflow:From C:\\Users\\Khoi\\anaconda3\\envs\\test\\lib\\site-packages\\tensorflow\\python\\autograph\\impl\\api.py:464: to_float (from tensorflow.python.ops.math_ops) is deprecated and will be removed in a future version.\n",
      "Instructions for updating:\n",
      "Use `tf.cast` instead.\n",
      "W0727 21:56:32.529318 15224 deprecation.py:330] From C:\\Users\\Khoi\\anaconda3\\envs\\test\\lib\\site-packages\\tensorflow\\python\\autograph\\impl\\api.py:464: to_float (from tensorflow.python.ops.math_ops) is deprecated and will be removed in a future version.\n",
      "Instructions for updating:\n",
      "Use `tf.cast` instead.\n",
      "INFO:tensorflow:Waiting for new checkpoint at Project\\data_models\\my_trained_models\\ssd_mobilenet_v2_fpnlite_320x320_coco17_tpu-8\n",
      "I0727 21:56:34.491318 15224 checkpoint_utils.py:140] Waiting for new checkpoint at Project\\data_models\\my_trained_models\\ssd_mobilenet_v2_fpnlite_320x320_coco17_tpu-8\n",
      "INFO:tensorflow:Found new checkpoint at Project\\data_models\\my_trained_models\\ssd_mobilenet_v2_fpnlite_320x320_coco17_tpu-8\\ckpt-3\n",
      "I0727 21:56:34.498317 15224 checkpoint_utils.py:149] Found new checkpoint at Project\\data_models\\my_trained_models\\ssd_mobilenet_v2_fpnlite_320x320_coco17_tpu-8\\ckpt-3\n",
      "2021-07-27 21:56:34.633203: I tensorflow/compiler/mlir/mlir_graph_optimization_pass.cc:176] None of the MLIR Optimization Passes are enabled (registered 2)\n",
      "C:\\Users\\Khoi\\anaconda3\\envs\\test\\lib\\site-packages\\tensorflow\\python\\keras\\backend.py:435: UserWarning: `tf.keras.backend.set_learning_phase` is deprecated and will be removed after 2020-10-11. To update it, simply pass a True/False value to the `training` argument of the `__call__` method of your layer or model.\n",
      "  warnings.warn('`tf.keras.backend.set_learning_phase` is deprecated and '\n",
      "Traceback (most recent call last):\n",
      "  File \"Project\\tf_model_garden\\research\\object_detection\\model_main_tf2.py\", line 115, in <module>\n",
      "    tf.compat.v1.app.run()\n",
      "  File \"C:\\Users\\Khoi\\anaconda3\\envs\\test\\lib\\site-packages\\tensorflow\\python\\platform\\app.py\", line 40, in run\n",
      "    _run(main=main, argv=argv, flags_parser=_parse_flags_tolerate_undef)\n",
      "  File \"C:\\Users\\Khoi\\anaconda3\\envs\\test\\lib\\site-packages\\absl\\app.py\", line 303, in run\n",
      "    _run_main(main, args)\n",
      "  File \"C:\\Users\\Khoi\\anaconda3\\envs\\test\\lib\\site-packages\\absl\\app.py\", line 251, in _run_main\n",
      "    sys.exit(main(argv))\n",
      "  File \"Project\\tf_model_garden\\research\\object_detection\\model_main_tf2.py\", line 82, in main\n",
      "    model_lib_v2.eval_continuously(\n",
      "  File \"C:\\Users\\Khoi\\anaconda3\\envs\\test\\lib\\site-packages\\object_detection\\model_lib_v2.py\", line 1151, in eval_continuously\n",
      "    eager_eval_loop(\n",
      "  File \"C:\\Users\\Khoi\\anaconda3\\envs\\test\\lib\\site-packages\\object_detection\\model_lib_v2.py\", line 928, in eager_eval_loop\n",
      "    for i, (features, labels) in enumerate(eval_dataset):\n",
      "  File \"C:\\Users\\Khoi\\anaconda3\\envs\\test\\lib\\site-packages\\tensorflow\\python\\data\\ops\\iterator_ops.py\", line 761, in __next__\n",
      "    return self._next_internal()\n",
      "  File \"C:\\Users\\Khoi\\anaconda3\\envs\\test\\lib\\site-packages\\tensorflow\\python\\data\\ops\\iterator_ops.py\", line 744, in _next_internal\n",
      "    ret = gen_dataset_ops.iterator_get_next(\n",
      "  File \"C:\\Users\\Khoi\\anaconda3\\envs\\test\\lib\\site-packages\\tensorflow\\python\\ops\\gen_dataset_ops.py\", line 2727, in iterator_get_next\n",
      "    _ops.raise_from_not_ok_status(e, name)\n",
      "  File \"C:\\Users\\Khoi\\anaconda3\\envs\\test\\lib\\site-packages\\tensorflow\\python\\framework\\ops.py\", line 6897, in raise_from_not_ok_status\n",
      "    six.raise_from(core._status_to_exception(e.code, message), None)\n",
      "  File \"<string>\", line 3, in raise_from\n",
      "tensorflow.python.framework.errors_impl.InvalidArgumentError: assertion failed: [[0.54296875][0.00130208337][0.731770813]...] [[0.35546875][0.3828125][1]...]\n",
      "\t [[{{node Assert_1/AssertGuard/else/_19/Assert_1/AssertGuard/Assert}}]] [Op:IteratorGetNext]\n"
     ]
    }
   ],
   "source": [
    "!{command}"
   ]
  },
  {
   "cell_type": "code",
   "execution_count": 20,
   "metadata": {},
   "outputs": [
    {
     "data": {
      "text/plain": [
       "'1.19.0'"
      ]
     },
     "execution_count": 20,
     "metadata": {},
     "output_type": "execute_result"
    }
   ],
   "source": [
    "import numpy as np\r\n",
    "np.__version__"
   ]
  },
  {
   "cell_type": "markdown",
   "metadata": {
    "id": "C8YnGNli-TZO"
   },
   "source": [
    "#-- Load the models from Checkpoints\n"
   ]
  },
  {
   "cell_type": "code",
   "execution_count": 49,
   "metadata": {
    "id": "sYRu6x-o-euI"
   },
   "outputs": [
    {
     "data": {
      "text/plain": [
       "<tensorflow.python.training.tracking.util.CheckpointLoadStatus at 0x1dbc05a1790>"
      ]
     },
     "execution_count": 49,
     "metadata": {},
     "output_type": "execute_result"
    }
   ],
   "source": [
    "import os\r\n",
    "import tensorflow as tf\r\n",
    "from object_detection.utils import label_map_util\r\n",
    "from object_detection.utils import visualization_utils as viz_utils\r\n",
    "from object_detection.builders import model_builder\r\n",
    "from object_detection.utils import config_util\r\n",
    "\r\n",
    "\r\n",
    "# -- Now lets load pipeline config and build a model for detection\r\n",
    "configs = config_util.get_configs_from_pipeline_file(files['PIPELINE_CONFIG'])\r\n",
    "detection_model = model_builder.build(model_config=configs['model'], is_training=False)\r\n",
    "\r\n",
    "# -- Load the checkpoints we have saved\r\n",
    "ckpt = tf.compat.v2.train.Checkpoint(model=detection_model)\r\n",
    "ckpt.restore(os.path.join(paths['CHECKPOINT_PATH'], 'ckpt-3')).expect_partial()"
   ]
  },
  {
   "cell_type": "code",
   "execution_count": 50,
   "metadata": {},
   "outputs": [
    {
     "data": {
      "text/plain": [
       "'F:\\\\DataSci\\\\GBC\\\\School\\\\DeepLearning2\\\\Task 2 - object detection'"
      ]
     },
     "execution_count": 50,
     "metadata": {},
     "output_type": "execute_result"
    }
   ],
   "source": [
    "%pwd"
   ]
  },
  {
   "cell_type": "code",
   "execution_count": 4,
   "metadata": {},
   "outputs": [
    {
     "name": "stdout",
     "output_type": "stream",
     "text": [
      "The tensorboard extension is already loaded. To reload it, use:\n",
      "  %reload_ext tensorboard\n"
     ]
    },
    {
     "data": {
      "text/plain": [
       "Reusing TensorBoard on port 8090 (pid 19048), started 0:01:14 ago. (Use '!kill 19048' to kill it.)"
      ]
     },
     "metadata": {},
     "output_type": "display_data"
    },
    {
     "data": {
      "text/html": [
       "\n",
       "      <iframe id=\"tensorboard-frame-71874bd61e2dfc1b\" width=\"100%\" height=\"800\" frameborder=\"0\">\n",
       "      </iframe>\n",
       "      <script>\n",
       "        (function() {\n",
       "          const frame = document.getElementById(\"tensorboard-frame-71874bd61e2dfc1b\");\n",
       "          const url = new URL(\"/\", window.location);\n",
       "          const port = 8090;\n",
       "          if (port) {\n",
       "            url.port = port;\n",
       "          }\n",
       "          frame.src = url;\n",
       "        })();\n",
       "      </script>\n",
       "    "
      ],
      "text/plain": [
       "<IPython.core.display.HTML object>"
      ]
     },
     "metadata": {},
     "output_type": "display_data"
    }
   ],
   "source": [
    "%load_ext tensorboard\r\n",
    "%tensorboard --logdir Project/data_models/my_trained_models --host localhost --port 8090"
   ]
  },
  {
   "cell_type": "code",
   "execution_count": 52,
   "metadata": {
    "collapsed": true,
    "jupyter": {
     "outputs_hidden": true
    }
   },
   "outputs": [
    {
     "data": {
      "text/plain": [
       "Reusing TensorBoard on port 6006 (pid 2928), started 15:02:35 ago. (Use '!kill 2928' to kill it.)"
      ]
     },
     "metadata": {},
     "output_type": "display_data"
    },
    {
     "data": {
      "text/html": [
       "\n",
       "      <iframe id=\"tensorboard-frame-42e2497d66ee54a1\" width=\"100%\" height=\"800\" frameborder=\"0\">\n",
       "      </iframe>\n",
       "      <script>\n",
       "        (function() {\n",
       "          const frame = document.getElementById(\"tensorboard-frame-42e2497d66ee54a1\");\n",
       "          const url = new URL(\"/\", window.location);\n",
       "          const port = 6006;\n",
       "          if (port) {\n",
       "            url.port = port;\n",
       "          }\n",
       "          frame.src = url;\n",
       "        })();\n",
       "      </script>\n",
       "    "
      ],
      "text/plain": [
       "<IPython.core.display.HTML object>"
      ]
     },
     "metadata": {},
     "output_type": "display_data"
    }
   ],
   "source": [
    "#%load_ext tensorboard\r\n",
    "#%tensorboard --logdir=./"
   ]
  },
  {
   "cell_type": "markdown",
   "metadata": {},
   "source": [
    "# Test Image"
   ]
  },
  {
   "cell_type": "code",
   "execution_count": 3,
   "metadata": {},
   "outputs": [
    {
     "data": {
      "image/png": "[encoded data removed]",
      "text/plain": [
       "<Figure size 432x288 with 1 Axes>"
      ]
     },
     "metadata": {
      "needs_background": "light"
     },
     "output_type": "display_data"
    },
    {
     "name": "stdout",
     "output_type": "stream",
     "text": [
      "Prediction time: 4.466498851776123 seconds\n",
      "Detection elapsed time: 4.702500581741333 seconds\n"
     ]
    },
    {
     "data": {
      "image/png": "[encoded data removed]",
      "text/plain": [
       "<Figure size 432x288 with 1 Axes>"
      ]
     },
     "metadata": {
      "needs_background": "light"
     },
     "output_type": "display_data"
    }
   ],
   "source": [
    "import os\r\n",
    "import tensorflow as tf\r\n",
    "from object_detection.utils import label_map_util\r\n",
    "from object_detection.utils import visualization_utils as viz_utils\r\n",
    "from object_detection.builders import model_builder\r\n",
    "from object_detection.utils import config_util\r\n",
    "import time\r\n",
    "\r\n",
    "\r\n",
    "# -- Now lets load pipeline config and build a model for detection\r\n",
    "configs = config_util.get_configs_from_pipeline_file(files['PIPELINE_CONFIG'])\r\n",
    "detection_model = model_builder.build(model_config=configs['model'], is_training=False)\r\n",
    "\r\n",
    "# -- Load the checkpoints we have saved\r\n",
    "ckpt = tf.compat.v2.train.Checkpoint(model=detection_model)\r\n",
    "ckpt.restore(os.path.join(paths['CHECKPOINT_PATH'], 'ckpt-51')).expect_partial()\r\n",
    "\r\n",
    "\r\n",
    "import cv2\r\n",
    "import numpy as np\r\n",
    "from matplotlib import pyplot as plt\r\n",
    "#matplotlib.use('module://backend_interagg')\r\n",
    "%matplotlib inline\r\n",
    "\r\n",
    "# --  define the function\r\n",
    "#@tf.function\r\n",
    "def detect_fn(image):\r\n",
    "    image, shapes = detection_model.preprocess(image)\r\n",
    "    start_pred_time = time.time()\r\n",
    "    prediction_dict = detection_model.predict(image, shapes)\r\n",
    "    print('Prediction time:', time.time()-start_pred_time, 'seconds')\r\n",
    "    detections = detection_model.postprocess(prediction_dict, shapes)\r\n",
    "    return detections\r\n",
    "\r\n",
    "category_index = label_map_util.create_category_index_from_labelmap(files['LABELMAP'])\r\n",
    "\r\n",
    "IMAGE_PATH = os.path.join(paths['IMAGE_PATH'], 'extra_tests', 'R18_jpg.rf.362d9bbd88ac7b5122cf730d25b36517.jpg')\r\n",
    "\r\n",
    "img = cv2.imread(IMAGE_PATH)\r\n",
    "plt.imshow(img)\r\n",
    "plt.show()\r\n",
    "\r\n",
    "\"\"\"\r\n",
    "# -- where working with grayscale images\r\n",
    "img_gray = cv2.cvtColor(img, cv2.COLOR_BGR2GRAY)\r\n",
    "plt.subplots()\r\n",
    "plt.imshow(img_gray, cmap='gray')\r\n",
    "plt.show()\r\n",
    "\r\n",
    "# -- Convert to RGB with 3 channels\r\n",
    "img_rgb = cv2.cvtColor(img_gray,cv2.COLOR_GRAY2RGB)\r\n",
    "plt.subplots()\r\n",
    "plt.imshow(img_rgb, cmap='gray')\r\n",
    "plt.show()\r\n",
    "\"\"\"\r\n",
    "\r\n",
    "image_np = np.array(img)\r\n",
    "\r\n",
    "input_tensor = tf.convert_to_tensor(np.expand_dims(image_np, 0), dtype=tf.float32)\r\n",
    "start_detect_time = time.time()\r\n",
    "detections = detect_fn(input_tensor)\r\n",
    "print('Detection elapsed time:', time.time()-start_detect_time, 'seconds')\r\n",
    "\r\n",
    "num_detections = int(detections.pop('num_detections'))\r\n",
    "detections = {key: value[0, :num_detections].numpy()\r\n",
    "              for key, value in detections.items()}\r\n",
    "detections['num_detections'] = num_detections\r\n",
    "\r\n",
    "detections['detection_classes'] = detections['detection_classes'].astype(np.int64)\r\n",
    "\r\n",
    "label_id_offset = 1\r\n",
    "image_np_with_detections = image_np.copy()\r\n",
    "\r\n",
    "viz_utils.visualize_boxes_and_labels_on_image_array(\r\n",
    "            image_np_with_detections,\r\n",
    "            detections['detection_boxes'],\r\n",
    "            detections['detection_classes']+label_id_offset,\r\n",
    "            detections['detection_scores'],\r\n",
    "            category_index,\r\n",
    "            use_normalized_coordinates=True,\r\n",
    "            max_boxes_to_draw=5,\r\n",
    "            min_score_thresh=.8,\r\n",
    "            agnostic_mode=False)\r\n",
    "\r\n",
    "plt.subplots()\r\n",
    "plt.imshow(cv2.cvtColor(image_np_with_detections, cv2.COLOR_BGR2RGB))\r\n",
    "plt.show()\r\n",
    "\r\n",
    "#plt.isinteractive()\r\n",
    "#plt.interactive(False)\r\n",
    "#plt.show(block=True)"
   ]
  },
  {
   "cell_type": "markdown",
   "metadata": {},
   "source": [
    "# Real Time"
   ]
  },
  {
   "cell_type": "code",
   "execution_count": 3,
   "metadata": {},
   "outputs": [],
   "source": [
    "# -- Real time detection -----------------------------------------------------------------------------------------------\r\n",
    "# -- this use your video camera\r\n",
    "#!pip uninstall opencv-python-headless -y\r\n",
    "import os\r\n",
    "import tensorflow as tf\r\n",
    "from object_detection.utils import label_map_util\r\n",
    "from object_detection.utils import visualization_utils as viz_utils\r\n",
    "from object_detection.builders import model_builder\r\n",
    "from object_detection.utils import config_util\r\n",
    "import time\r\n",
    "\r\n",
    "\r\n",
    "# -- Now lets load pipeline config and build a model for detection\r\n",
    "configs = config_util.get_configs_from_pipeline_file(files['PIPELINE_CONFIG'])\r\n",
    "detection_model = model_builder.build(model_config=configs['model'], is_training=False)\r\n",
    "\r\n",
    "# -- Load the checkpoints we have saved\r\n",
    "ckpt = tf.compat.v2.train.Checkpoint(model=detection_model)\r\n",
    "ckpt.restore(os.path.join(paths['CHECKPOINT_PATH'], 'ckpt-51')).expect_partial()\r\n",
    "\r\n",
    "import cv2\r\n",
    "import numpy as np\r\n",
    "\r\n",
    "def detect_fn(image):\r\n",
    "    image, shapes = detection_model.preprocess(image)\r\n",
    "    # start_pred_time = time.time()\r\n",
    "    prediction_dict = detection_model.predict(image, shapes)\r\n",
    "    # print('Prediction time:', time.time()-start_pred_time, 'seconds')\r\n",
    "    # elapsed_time = time.time() - start_pred_time\r\n",
    "    detections = detection_model.postprocess(prediction_dict, shapes)\r\n",
    "    return detections\r\n",
    "\r\n",
    "category_index = label_map_util.create_category_index_from_labelmap(files['LABELMAP'])\r\n",
    "\r\n",
    "cap = cv2.VideoCapture(0) # try other channels if \"0\" did not worked, line \"1\" or \"2\" !!!!!!!!!!!!!!!\r\n",
    "width = int(cap.get(cv2.CAP_PROP_FRAME_WIDTH))\r\n",
    "height = int(cap.get(cv2.CAP_PROP_FRAME_HEIGHT))\r\n",
    "\r\n",
    "while cap.isOpened():\r\n",
    "    frame_start_time = time.time()\r\n",
    "    ret, frame = cap.read()\r\n",
    "    image_np = np.array(frame)\r\n",
    "\r\n",
    "    input_tensor = tf.convert_to_tensor(np.expand_dims(image_np, 0), dtype=tf.float32)\r\n",
    "    detections = detect_fn(input_tensor)\r\n",
    "\r\n",
    "    num_detections = int(detections.pop('num_detections'))\r\n",
    "    detections = {key: value[0, :num_detections].numpy()\r\n",
    "                  for key, value in detections.items()}\r\n",
    "    detections['num_detections'] = num_detections\r\n",
    "\r\n",
    "    # detection_classes should be ints.\r\n",
    "    detections['detection_classes'] = detections['detection_classes'].astype(np.int64)\r\n",
    "\r\n",
    "    label_id_offset = 1\r\n",
    "    image_np_with_detections = image_np.copy()\r\n",
    "\r\n",
    "    viz_utils.visualize_boxes_and_labels_on_image_array(\r\n",
    "        image_np_with_detections,\r\n",
    "        detections['detection_boxes'],\r\n",
    "        detections['detection_classes'] + label_id_offset,\r\n",
    "        detections['detection_scores'],\r\n",
    "        category_index,\r\n",
    "        use_normalized_coordinates=True,\r\n",
    "        max_boxes_to_draw=5,\r\n",
    "        min_score_thresh=.8,\r\n",
    "        agnostic_mode=False)\r\n",
    "    image_np_resized = cv2.resize(image_np_with_detections, (800, 600))\r\n",
    "    \r\n",
    "    frame_elapsed_time =  time.time() - frame_start_time\r\n",
    "    # Put model name and fps text-------------------------------------------\r\n",
    "    font             = cv2.FONT_HERSHEY_SIMPLEX\r\n",
    "    upperLeftCorner  = (30,35)\r\n",
    "    fontScale        = 0.7\r\n",
    "    fontColor        = (0,0,255)\r\n",
    "    lineType         = 2\r\n",
    "\r\n",
    "    cv2.putText(image_np_resized,'ssd_mobilenet_v2_fpnlite_640x640', \r\n",
    "        upperLeftCorner, \r\n",
    "        font, \r\n",
    "        fontScale,\r\n",
    "        fontColor,\r\n",
    "        lineType)\r\n",
    "\r\n",
    "    cv2.putText(image_np_resized,f'FPS: {np.round(1/frame_elapsed_time, 1)}', \r\n",
    "        (650, 35), # upper right corner \r\n",
    "        font, \r\n",
    "        fontScale,\r\n",
    "        fontColor,\r\n",
    "        lineType)\r\n",
    "    \r\n",
    "\r\n",
    "    cv2.imshow('object detection', image_np_resized) # was (800, 600)\r\n",
    "\r\n",
    "    if cv2.waitKey(10) & 0xFF == ord('q'):\r\n",
    "        cap.release()\r\n",
    "        cv2.destroyAllWindows()\r\n",
    "        break"
   ]
  },
  {
   "cell_type": "code",
   "execution_count": null,
   "metadata": {},
   "outputs": [],
   "source": []
  },
  {
   "cell_type": "markdown",
   "metadata": {},
   "source": [
    "## Freeze the model"
   ]
  },
  {
   "cell_type": "code",
   "execution_count": 45,
   "metadata": {},
   "outputs": [],
   "source": [
    "FREEZE_SCRIPT = os.path.join(paths['APIMODEL_PATH'], 'research', 'object_detection', 'exporter_main_v2.py ')\r\n",
    "command = \"python {} --input_type=image_tensor --pipeline_config_path={} --trained_checkpoint_dir={}\\\r\n",
    " --output_directory={}\".format(FREEZE_SCRIPT, files['PIPELINE_CONFIG'], paths['CHECKPOINT_PATH'], paths['OUTPUT_PATH'])"
   ]
  },
  {
   "cell_type": "code",
   "execution_count": 47,
   "metadata": {},
   "outputs": [
    {
     "data": {
      "text/plain": [
       "'python Project\\\\tf_model_garden\\\\research\\\\object_detection\\\\exporter_main_v2.py  --input_type=image_tensor --pipeline_config_path=Project\\\\data_models\\\\my_trained_models\\\\ssd_mobilenet_v2_fpnlite_640x640_coco17_tpu-8\\\\pipeline.config --trained_checkpoint_dir=Project\\\\data_models\\\\my_trained_models\\\\ssd_mobilenet_v2_fpnlite_640x640_coco17_tpu-8 --output_directory=Project\\\\data_models\\\\my_trained_models\\\\ssd_mobilenet_v2_fpnlite_640x640_coco17_tpu-8\\\\export'"
      ]
     },
     "execution_count": 47,
     "metadata": {},
     "output_type": "execute_result"
    }
   ],
   "source": [
    "command"
   ]
  },
  {
   "cell_type": "code",
   "execution_count": 49,
   "metadata": {},
   "outputs": [],
   "source": [
    "from subprocess import Popen, PIPE, STDOUT\r\n",
    "\r\n",
    "from IPython.core.magic import register_line_magic\r\n",
    "\r\n",
    "\r\n",
    "@register_line_magic\r\n",
    "def runrealcmd(command):\r\n",
    "    process = Popen(command, stdout=PIPE, shell=True, stderr=STDOUT, bufsize=1, close_fds=True)\r\n",
    "    for line in iter(process.stdout.readline, b''):\r\n",
    "        print(line.rstrip().decode('utf-8'))\r\n",
    "    process.stdout.close()\r\n",
    "    process.wait()"
   ]
  },
  {
   "cell_type": "code",
   "execution_count": null,
   "metadata": {},
   "outputs": [],
   "source": [
    "%runrealcmd"
   ]
  },
  {
   "cell_type": "code",
   "execution_count": null,
   "metadata": {},
   "outputs": [],
   "source": []
  }
 ],
 "metadata": {
  "accelerator": "GPU",
  "colab": {
   "authorship_tag": "ABX9TyPFG23sc/1s+eLElx3zlXYl",
   "name": "Train_predict_od_api.ipynb",
   "provenance": []
  },
  "interpreter": {
   "hash": "a9cd7b60f4c9129a9437617cab27c70838746dea5c0494af71b5662c5bec45bc"
  },
  "kernelspec": {
   "display_name": "Python 3",
   "language": "python",
   "name": "python3"
  },
  "language_info": {
   "codemirror_mode": {
    "name": "ipython",
    "version": 3
   },
   "file_extension": ".py",
   "mimetype": "text/x-python",
   "name": "python",
   "nbconvert_exporter": "python",
   "pygments_lexer": "ipython3",
   "version": "3.8.10"
  }
 },
 "nbformat": 4,
 "nbformat_minor": 4
}
