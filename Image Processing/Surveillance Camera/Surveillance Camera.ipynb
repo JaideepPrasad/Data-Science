{
 "cells": [
  {
   "cell_type": "markdown",
   "metadata": {},
   "source": [
    "This code is a motion detection algorithm that alarms you when you have an unwanted visitor in your home."
   ]
  },
  {
   "cell_type": "code",
   "execution_count": 3,
   "metadata": {},
   "outputs": [
    {
     "ename": "NameError",
     "evalue": "name 'text' is not defined",
     "output_type": "error",
     "traceback": [
      "\u001b[1;31m---------------------------------------------------------------------------\u001b[0m",
      "\u001b[1;31mNameError\u001b[0m                                 Traceback (most recent call last)",
      "\u001b[1;32m<ipython-input-3-8f4f5ef92bb1>\u001b[0m in \u001b[0;36m<module>\u001b[1;34m\u001b[0m\n\u001b[0;32m     45\u001b[0m \u001b[1;33m\u001b[0m\u001b[0m\n\u001b[0;32m     46\u001b[0m     \u001b[1;31m# draw the text and timestamp on the frame\u001b[0m\u001b[1;33m\u001b[0m\u001b[1;33m\u001b[0m\u001b[1;33m\u001b[0m\u001b[0m\n\u001b[1;32m---> 47\u001b[1;33m     \u001b[0mcv2\u001b[0m\u001b[1;33m.\u001b[0m\u001b[0mputText\u001b[0m\u001b[1;33m(\u001b[0m\u001b[0mframe\u001b[0m\u001b[1;33m,\u001b[0m \u001b[1;34m\"Room Status: {}\"\u001b[0m\u001b[1;33m.\u001b[0m\u001b[0mformat\u001b[0m\u001b[1;33m(\u001b[0m\u001b[0mtext\u001b[0m\u001b[1;33m)\u001b[0m\u001b[1;33m,\u001b[0m \u001b[1;33m(\u001b[0m\u001b[0mframe\u001b[0m\u001b[1;33m.\u001b[0m\u001b[0mshape\u001b[0m\u001b[1;33m[\u001b[0m\u001b[1;36m1\u001b[0m\u001b[1;33m]\u001b[0m\u001b[1;33m-\u001b[0m\u001b[1;36m175\u001b[0m\u001b[1;33m,\u001b[0m \u001b[1;36m20\u001b[0m\u001b[1;33m)\u001b[0m\u001b[1;33m,\u001b[0m \u001b[0mcv2\u001b[0m\u001b[1;33m.\u001b[0m\u001b[0mFONT_HERSHEY_SIMPLEX\u001b[0m\u001b[1;33m,\u001b[0m \u001b[1;36m0.5\u001b[0m\u001b[1;33m,\u001b[0m \u001b[1;33m(\u001b[0m\u001b[1;36m0\u001b[0m\u001b[1;33m,\u001b[0m \u001b[1;36m0\u001b[0m\u001b[1;33m,\u001b[0m \u001b[1;36m255\u001b[0m\u001b[1;33m)\u001b[0m\u001b[1;33m,\u001b[0m \u001b[1;36m2\u001b[0m\u001b[1;33m)\u001b[0m\u001b[1;33m\u001b[0m\u001b[1;33m\u001b[0m\u001b[0m\n\u001b[0m\u001b[0;32m     48\u001b[0m     \u001b[0mcv2\u001b[0m\u001b[1;33m.\u001b[0m\u001b[0mputText\u001b[0m\u001b[1;33m(\u001b[0m\u001b[0mframe\u001b[0m\u001b[1;33m,\u001b[0m \u001b[0mdatetime\u001b[0m\u001b[1;33m.\u001b[0m\u001b[0mdatetime\u001b[0m\u001b[1;33m.\u001b[0m\u001b[0mnow\u001b[0m\u001b[1;33m(\u001b[0m\u001b[1;33m)\u001b[0m\u001b[1;33m.\u001b[0m\u001b[0mstrftime\u001b[0m\u001b[1;33m(\u001b[0m\u001b[1;34m\"%A %d %B %Y %I:%M:%S%p\"\u001b[0m\u001b[1;33m)\u001b[0m\u001b[1;33m,\u001b[0m \u001b[1;33m(\u001b[0m\u001b[1;36m10\u001b[0m\u001b[1;33m,\u001b[0m \u001b[0mframe\u001b[0m\u001b[1;33m.\u001b[0m\u001b[0mshape\u001b[0m\u001b[1;33m[\u001b[0m\u001b[1;36m0\u001b[0m\u001b[1;33m]\u001b[0m \u001b[1;33m-\u001b[0m \u001b[1;36m10\u001b[0m\u001b[1;33m)\u001b[0m\u001b[1;33m,\u001b[0m \u001b[0mcv2\u001b[0m\u001b[1;33m.\u001b[0m\u001b[0mFONT_HERSHEY_SIMPLEX\u001b[0m\u001b[1;33m,\u001b[0m \u001b[1;36m0.35\u001b[0m\u001b[1;33m,\u001b[0m \u001b[1;33m(\u001b[0m\u001b[1;36m0\u001b[0m\u001b[1;33m,\u001b[0m \u001b[1;36m0\u001b[0m\u001b[1;33m,\u001b[0m \u001b[1;36m255\u001b[0m\u001b[1;33m)\u001b[0m\u001b[1;33m,\u001b[0m \u001b[1;36m1\u001b[0m\u001b[1;33m)\u001b[0m\u001b[1;33m\u001b[0m\u001b[1;33m\u001b[0m\u001b[0m\n\u001b[0;32m     49\u001b[0m \u001b[1;33m\u001b[0m\u001b[0m\n",
      "\u001b[1;31mNameError\u001b[0m: name 'text' is not defined"
     ]
    }
   ],
   "source": [
    "import argparse\n",
    "import datetime\n",
    "import imutils\n",
    "import time\n",
    "import cv2\n",
    "                                                            # this is for the reference frame that we compare everything to\n",
    "video_capture = cv2.VideoCapture(0)                         # turn camera on\n",
    "ret, frame = video_capture.read()                           # get frame\n",
    "background = cv2.cvtColor(frame, cv2.COLOR_BGR2GRAY)        # grayscale frame\n",
    "background = cv2.GaussianBlur(background, (5,5), 0)         # blur the image to deal with noise\n",
    "\n",
    "width = int(video_capture.get(cv2.CAP_PROP_FRAME_WIDTH))    # get resolution of camera\n",
    "height = int(video_capture.get(cv2.CAP_PROP_FRAME_HEIGHT))\n",
    "filename = \"surveillance.avi\"                               # name of video recording\n",
    "fps = 24                                                    # FPS of video recording\n",
    "fourcc = cv2.VideoWriter_fourcc(*\"XVID\")                    # video encoding\n",
    "out=cv2.VideoWriter(filename, fourcc, fps, (width, height)) # output video\n",
    "\n",
    "while True:\n",
    "    ret, frame = video_capture.read()              # get frame\n",
    "    gray = cv2.cvtColor(frame, cv2.COLOR_BGR2GRAY) # grayscale\n",
    "    gray = cv2.GaussianBlur(gray, (5,5), 0)        # blur the image to deal with noise\n",
    "    \n",
    "    frameDelta = cv2.absdiff(background, gray)     # delta = abs(background frame - current frame)\n",
    "    \n",
    "    thresh = cv2.threshold(frameDelta, 15, 255, cv2.THRESH_BINARY)[1] # if the delta is greater than 25 make it white else make it black\n",
    "    thresh = cv2.dilate(thresh, None, iterations=2)\n",
    "    \n",
    "    cnts = cv2.findContours(thresh.copy(), cv2.RETR_EXTERNAL, cv2.CHAIN_APPROX_SIMPLE) # for finding countours of intruder\n",
    "    cnts = imutils.grab_contours(cnts)\n",
    "    \n",
    "    for c in cnts:\n",
    "    # if the contour is too small, ignore it\n",
    "        if cv2.contourArea(c) < 3000:\n",
    "            text = \"SAFE\"\n",
    "            print(\"No motion detected (0)\")    # if there are no major changes, there are no contours, there's no intruder\n",
    "        else:\n",
    "            (x, y, w, h) = cv2.boundingRect(c) # get and show a bounding box of intruder\n",
    "            cv2.rectangle(frame, (x, y), (x + w, y + h), (0, 255, 0), 2)\n",
    "            text = \"UNSAFE\"\n",
    "            print(\"Motion detected (1)\")\n",
    "    \n",
    "    # draw the text and timestamp on the frame\n",
    "    cv2.putText(frame, \"Room Status: {}\".format(text), (frame.shape[1]-175, 20), cv2.FONT_HERSHEY_SIMPLEX, 0.5, (0, 0, 255), 2)\n",
    "    cv2.putText(frame, datetime.datetime.now().strftime(\"%A %d %B %Y %I:%M:%S%p\"), (10, frame.shape[0] - 10), cv2.FONT_HERSHEY_SIMPLEX, 0.35, (0, 0, 255), 1)\n",
    "    \n",
    "    # Record Vid\n",
    "    \n",
    "    # ret (bool return value on webcam read function), so if we can read the webcam properly\n",
    "    if ret == True:\n",
    "        out.write(background)\n",
    "    \n",
    "    cv2.imshow(\"Security Feed\", frame)\n",
    "    cv2.imshow(\"Thresh\", thresh)\n",
    "    cv2.imshow(\"Frame Delta\", frameDelta)\n",
    "    \n",
    "    if cv2.waitKey(1) & 0xFF == ord('q'):\n",
    "        break\n",
    "    \n",
    "cv2.destroyAllWindows()\n",
    "video_capture.release()"
   ]
  },
  {
   "cell_type": "code",
   "execution_count": null,
   "metadata": {},
   "outputs": [],
   "source": []
  }
 ],
 "metadata": {
  "kernelspec": {
   "display_name": "Python 3",
   "language": "python",
   "name": "python3"
  },
  "language_info": {
   "codemirror_mode": {
    "name": "ipython",
    "version": 3
   },
   "file_extension": ".py",
   "mimetype": "text/x-python",
   "name": "python",
   "nbconvert_exporter": "python",
   "pygments_lexer": "ipython3",
   "version": "3.8.5"
  }
 },
 "nbformat": 4,
 "nbformat_minor": 4
}
